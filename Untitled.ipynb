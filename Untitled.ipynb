{
 "cells": [
  {
   "cell_type": "code",
   "execution_count": 1,
   "id": "dde23b0f-456d-499f-8957-2d7c01d05d59",
   "metadata": {},
   "outputs": [
    {
     "ename": "ModuleNotFoundError",
     "evalue": "No module named 'pandas'",
     "output_type": "error",
     "traceback": [
      "\u001b[1;31m---------------------------------------------------------------------------\u001b[0m",
      "\u001b[1;31mModuleNotFoundError\u001b[0m                       Traceback (most recent call last)",
      "Cell \u001b[1;32mIn[1], line 1\u001b[0m\n\u001b[1;32m----> 1\u001b[0m \u001b[38;5;28;01mimport\u001b[39;00m \u001b[38;5;21;01mpandas\u001b[39;00m \u001b[38;5;28;01mas\u001b[39;00m \u001b[38;5;21;01mpd\u001b[39;00m\n\u001b[0;32m      2\u001b[0m \u001b[38;5;28;01mimport\u001b[39;00m \u001b[38;5;21;01mnumpy\u001b[39;00m \u001b[38;5;28;01mas\u001b[39;00m \u001b[38;5;21;01mnp\u001b[39;00m\n\u001b[0;32m      3\u001b[0m \u001b[38;5;28;01mimport\u001b[39;00m \u001b[38;5;21;01mrandom\u001b[39;00m\n",
      "\u001b[1;31mModuleNotFoundError\u001b[0m: No module named 'pandas'"
     ]
    }
   ],
   "source": [
    "import pandas as pd\n",
    "import numpy as np\n",
    "import random\n",
    "import altair as alt\n",
    "import plotly.graph_objects as go\n",
    "import requests\n",
    "import inspect\n",
    "import spotipy\n",
    "from spotipy.oauth2 import SpotifyClientCredentials\n",
    "import spotify_tools\n",
    "import networkx as nx\n",
    "import networkx.algorithms.community as nx_comm\n",
    "import matplotlib.cm as cm\n",
    "import matplotlib.pyplot as plt\n",
    "import plotly.express as px\n",
    "import pyvis\n",
    "from pyvis import network as net\n",
    "from itertools import combinations\n",
    "from community import community_louvain\n",
    "from copy import deepcopy\n",
    "import time\n",
    "import csv"
   ]
  },
  {
   "cell_type": "code",
   "execution_count": null,
   "id": "6770f4cc-01e1-413d-8a92-22178f5cec65",
   "metadata": {},
   "outputs": [],
   "source": [
    "CLIENT_ID = \"09f53c0a70fc4818ab7438fb2dff64dd\"\n",
    "CLIENT_SECRET = \"fcfcaea7cc9a42f697da7ce6d4680d3d\"\n",
    "my_username = \"Fejiro Anigboro\"\n",
    "\n",
    "# instantiating the client.  This 'sp' version of the client is used repeatedly below\n",
    "# source: Max Hilsdorf (https://towardsdatascience.com/how-to-create-large-music-datasets-using-spotipy-40e7242cc6a6)\n",
    "client_credentials_manager = SpotifyClientCredentials(client_id=CLIENT_ID, client_secret=CLIENT_SECRET)\n",
    "sp = spotipy.Spotify(client_credentials_manager=client_credentials_manager, status_retries=3, backoff_factor=0.3)"
   ]
  },
  {
   "cell_type": "code",
   "execution_count": null,
   "id": "bfd2680a-4dc5-496b-ad1c-d2e503dfe2ab",
   "metadata": {},
   "outputs": [],
   "source": [
    "def get_playlist_tracks(creator_ID, playlist_ID):\n",
    "    # playlist_tracks(user_id: String, playlist_id: String): json_dict\n",
    "    playlist_tracks = pd.DataFrame(sp.user_playlist_tracks(creator_ID, playlist_ID))\n",
    "    return playlist_tracks"
   ]
  },
  {
   "cell_type": "code",
   "execution_count": null,
   "id": "8212dd4d-e6d3-428e-81ce-52cc941e1eb5",
   "metadata": {},
   "outputs": [],
   "source": [
    "def get_playlist_ids(username,playlist_id):\n",
    "    r = sp.user_playlist_tracks(username,playlist_id)\n",
    "    t = r['items']\n",
    "    ids = []\n",
    "    song_info = []\n",
    "    while r['next']:\n",
    "        r = sp.next(r)\n",
    "        t.extend(r['items'])\n",
    "    for s in t: \n",
    "        ids.append(s[\"track\"][\"id\"]) \n",
    "        track_id = s[\"track\"][\"id\"]\n",
    "        song_name = s[\"track\"][\"name\"]\n",
    "        album_type = s['track']['album']['album_type'] \n",
    "        print(album_type)\n",
    "        #print(song_name)\n",
    "        \n",
    "        artist_name = s[\"track\"][\"artists\"][0][\"name\"]\n",
    "        #print(artist_name)\n",
    "        \n",
    "        # this gives the id of an artist\n",
    "        artist_id = s[\"track\"][\"artists\"][0][\"id\"] # use href if I need to get the full api call for this -- split by \"/\" thne get [-1] element\n",
    "        #print(artist_id) \n",
    "        \n",
    "        popularity = s[\"track\"][\"popularity\"]\n",
    "        \n",
    "        #print(s)\n",
    "        \n",
    "        try:\n",
    "            # getting the url of the album\n",
    "            album_url = s[\"track\"][\"artists\"][0][\"external_urls\"][\"spotify\"]\n",
    "            #print(album_url) # split by same condiiton above\n",
    "        except:\n",
    "            album_url = None\n",
    "        \n",
    "        song_info.append(f\"{track_id},, {song_name},, {album_url},, {popularity},, {artist_name},, {artist_id},,\\n\")\n",
    "        \n",
    "    \n",
    "    return song_info, ids"
   ]
  },
  {
   "cell_type": "code",
   "execution_count": null,
   "id": "21c89d78-f290-43b5-bc37-d4763b1523e4",
   "metadata": {},
   "outputs": [
    {
     "name": "stdout",
     "output_type": "stream",
     "text": [
      "single\n",
      "album\n",
      "album\n",
      "album\n",
      "album\n",
      "album\n",
      "album\n",
      "album\n",
      "album\n",
      "album\n",
      "album\n"
     ]
    }
   ],
   "source": [
    "test_pl = get_playlist_ids(\"Any user\", \"7mVCbkMcSXApmQ08F9uUi5\")\n",
    "#pl_10000 = get_playlist_ids(\"Willis Orr\", \"5S8SJdl1BDc0ugpkEvFsIL\")"
   ]
  },
  {
   "cell_type": "code",
   "execution_count": null,
   "id": "580364eb-7f32-4bba-b3b7-538f28e1596d",
   "metadata": {},
   "outputs": [],
   "source": [
    "# song_holder = open(\"song_ids.txt\", \"w\")\n",
    "# for a in test_pl[0]+pl_10000[0]:\n",
    "#     song_holder.write(a)"
   ]
  },
  {
   "cell_type": "code",
   "execution_count": null,
   "id": "ae458faa-f67e-49f7-9d79-10cbe14f7992",
   "metadata": {},
   "outputs": [],
   "source": [
    "song_id = open(\"song_ids.txt\", \"a\")"
   ]
  },
  {
   "cell_type": "code",
   "execution_count": null,
   "id": "a55e3e41-c7c8-4acd-9243-1aa4986fe681",
   "metadata": {},
   "outputs": [
    {
     "name": "stdout",
     "output_type": "stream",
     "text": [
      "10000\n"
     ]
    },
    {
     "data": {
      "text/plain": [
       "['1SgUjGzbmmMOsGFTVwQ59L,, seaside_demo,, https://open.spotify.com/artist/7oPxPZSk7y5q0fhzpmX5Gi,, 69,, SEB,, 7oPxPZSk7y5q0fhzpmX5Gi',\n",
       " '6I3mqTwhRpn34SLVafSH7G,, Ghost,, https://open.spotify.com/artist/1uNFoZAHBGtllmzznpCI3s,, 88,, Justin Bieber,, 1uNFoZAHBGtllmzznpCI3s',\n",
       " '23khhseCLQqVMCIT1WMAns,, Magic,, https://open.spotify.com/artist/4gzpq5DPGxSnKTe4SA8HAU,, 75,, Coldplay,, 4gzpq5DPGxSnKTe4SA8HAU',\n",
       " '1nTzXNZCnZ0T7S8BqkL98r,, how deep?,, https://open.spotify.com/artist/2kCO8LXN1usaOPL3iEE28I,, 62,, Tai Verdes,, 2kCO8LXN1usaOPL3iEE28I',\n",
       " '35AG36QH9ytiNtPyx9xwr8,, Chemicals,, https://open.spotify.com/artist/3QSQFmccmX81fWCUSPTS7y,, 61,, Dean Lewis,, 3QSQFmccmX81fWCUSPTS7y',\n",
       " '5C1TucCRf4Vjjree1OItyv,, One,, https://open.spotify.com/artist/4GNC7GD6oZMSxPGyXy4MNB,, 68,, Lewis Capaldi,, 4GNC7GD6oZMSxPGyXy4MNB',\n",
       " '0QA40eWNCs6gBrJMaMDkgR,, Apologize,, https://open.spotify.com/artist/19y5MFBH7gohEdGwKM7QsP,, 31,, Luther Vandross,, 19y5MFBH7gohEdGwKM7QsP',\n",
       " '5p0ietGkLNEqx1Z7ijkw5g,, My Love,, https://open.spotify.com/artist/5Z1CCuBsyhEHngq3U5IraY,, 72,, Westlife,, 5Z1CCuBsyhEHngq3U5IraY',\n",
       " '6UelLqGlWMcVH1E5c4H7lY,, Watermelon Sugar,, https://open.spotify.com/artist/6KImCVD70vtIoJWnq6nGn3,, 88,, Harry Styles,, 6KImCVD70vtIoJWnq6nGn3',\n",
       " '3USxtqRwSYz57Ewm6wWRMp,, Heat Waves,, https://open.spotify.com/artist/4yvcSjfu4PC0CYQyLy4wSq,, 90,, Glass Animals,, 4yvcSjfu4PC0CYQyLy4wSq',\n",
       " '5Pgq1Gfeth2CuUhyCXwlfC,, Take It Easy,, https://open.spotify.com/artist/4ETSs924pXMzjIeD6E9b4u,, 46,, Surfaces,, 4ETSs924pXMzjIeD6E9b4u']"
      ]
     },
     "execution_count": 78,
     "metadata": {},
     "output_type": "execute_result"
    }
   ],
   "source": [
    "#sp.audio_analysis(pl[1])\n",
    "#sp.audio_features(tracks=[pl[i] for i in range(100)])\n",
    "#sp.audio_features(pl[0])\n",
    "print(len(pl_10000[1]))\n",
    "test_pl[0]"
   ]
  },
  {
   "cell_type": "code",
   "execution_count": null,
   "id": "dda8aa66-af28-49ae-82a7-ea00c0c58005",
   "metadata": {},
   "outputs": [],
   "source": [
    "def get_SP(ID, Secret, Name):\n",
    "    CLIENT_ID = ID\n",
    "    CLIENT_SECRET = Secret\n",
    "    my_username = Name\n",
    "\n",
    "    # instantiating the client.  This 'sp' version of the client is used repeatedly below\n",
    "    # source: Max Hilsdorf (https://towardsdatascience.com/how-to-create-large-music-datasets-using-spotipy-40e7242cc6a6)\n",
    "    client_credentials_manager = SpotifyClientCredentials(client_id=CLIENT_ID, client_secret=CLIENT_SECRET)\n",
    "    sp = spotipy.Spotify(client_credentials_manager=client_credentials_manager, status_retries=3, backoff_factor=0.3)\n",
    "    \n",
    "    return sp"
   ]
  },
  {
   "cell_type": "code",
   "execution_count": null,
   "id": "425ca530-0c8d-4d00-8021-b21b0c1d0127",
   "metadata": {},
   "outputs": [],
   "source": [
    "def get_audio_features_slowly(track_info, time_delay, sp):\n",
    "    track_dict_list = []\n",
    "    tracker = 0\n",
    "    for track in track_info:\n",
    "        tracker += 1\n",
    "        try:\n",
    "            time.sleep(time_delay)\n",
    "            audio_features_temp = sp.audio_features(track)\n",
    "            # test for missing values\n",
    "            # this_track_dict.update(audio_features_temp)\n",
    "            track_dict_list.append(audio_features_temp)\n",
    "        except Exception as e:\n",
    "            print(e, track)\n",
    "            print(e)\n",
    "        print(tracker)\n",
    "    # audio_features = pd.DataFrame(track_dict_list)\n",
    "    # return audio_features\n",
    "    return track_dict_list"
   ]
  },
  {
   "cell_type": "code",
   "execution_count": null,
   "id": "0d98a9c9-2b3b-4fc4-9a24-b61999d24c32",
   "metadata": {},
   "outputs": [],
   "source": [
    "sp1 = get_SP(\"922db1c93c90406fb8608e2729577cf4\", \"8561aa0a985f470f91193d912a494287\", \"my_spotify_name\")\n",
    "sp2 = get_SP(\"79724bfb388b451e9d80af9972ed118f\", \"4c1784725f7a468aa97127ee54d63209\", \"my_spotify_rami\")\n",
    "sp3 = get_SP(\"d7e20fdf6b044b8c83c6ef74045bd89d\", \"bb863640b3844f3a84289182ce5a7c01\", \"my_spotify_Idan\")\n",
    "sp4 = get_SP(\"6ca97a1822a849458f3c105d5f83e3c2\", \"bb57f33f51da4321b14e0f5309abf7ca\", \"my_spotify_F2\")"
   ]
  },
  {
   "cell_type": "code",
   "execution_count": null,
   "id": "bc1db750-8352-4c8a-a827-141200e4db76",
   "metadata": {},
   "outputs": [],
   "source": [
    "# stopped at 3982 --- continue at 3982 - 1200"
   ]
  },
  {
   "cell_type": "code",
   "execution_count": null,
   "id": "44200184-af93-43cc-a775-57f04620ba02",
   "metadata": {},
   "outputs": [],
   "source": [
    "#c = get_audio_features_slowly(test_pl[1][0::], 2, sp3)"
   ]
  },
  {
   "cell_type": "code",
   "execution_count": null,
   "id": "4c90fec3-4102-413f-a9d5-4148d9ce80c6",
   "metadata": {},
   "outputs": [],
   "source": [
    "def csv_writer(info):\n",
    "    with open('song_infos_fixed.csv', 'a', newline='') as file:\n",
    "        # Step 4: Using csv.writer to write the list to the CSV file\n",
    "        writer = csv.writer(file)\n",
    "        writer.writerow(info) # Use writerow for single list"
   ]
  },
  {
   "cell_type": "code",
   "execution_count": null,
   "id": "67eebcc9-3cab-4cbb-a670-1bd6062f1777",
   "metadata": {},
   "outputs": [],
   "source": [
    "#csv_writer(list(c[0][0].keys()))"
   ]
  },
  {
   "cell_type": "code",
   "execution_count": null,
   "id": "1eb94622-e712-4e53-90f9-9c8ded671172",
   "metadata": {},
   "outputs": [],
   "source": [
    "for a in c: \n",
    "    try:\n",
    "        csv_writer(list(a[0].values()))\n",
    "    except AttributeError:\n",
    "        pass"
   ]
  },
  {
   "cell_type": "code",
   "execution_count": null,
   "id": "fb276326-a169-4c1b-9fd1-040f06d4380f",
   "metadata": {},
   "outputs": [],
   "source": [
    "df = pd.read_csv(\"song_infos.csv\")"
   ]
  },
  {
   "cell_type": "code",
   "execution_count": null,
   "id": "162859dc-7b6b-4737-b0ce-6522ce1e6749",
   "metadata": {},
   "outputs": [
    {
     "name": "stdout",
     "output_type": "stream",
     "text": [
      "0\n",
      "9944 9944\n"
     ]
    }
   ],
   "source": [
    "td = 0\n",
    "for a in list(df.duplicated()):\n",
    "    if a == True:\n",
    "        td+=1\n",
    "print(td)\n",
    "print(len(list(df[\"id\"])), len(set(list(df['id']))))"
   ]
  },
  {
   "cell_type": "code",
   "execution_count": null,
   "id": "1b0df600-4f40-45aa-a105-99b8a8130e03",
   "metadata": {},
   "outputs": [],
   "source": [
    "def get_other_id(df):\n",
    "    play_list_ids = list(df[\"id\"])\n",
    "    compare = pl_10000[1]\n",
    "    \n",
    "    needed_ids = set(compare) - set(play_list_ids)\n",
    "    \n",
    "    return needed_ids"
   ]
  },
  {
   "cell_type": "code",
   "execution_count": null,
   "id": "2603a805-c0ba-423b-8149-9031f5e168d9",
   "metadata": {},
   "outputs": [],
   "source": [
    "others = get_other_id(df)"
   ]
  },
  {
   "cell_type": "code",
   "execution_count": null,
   "id": "192e3149-6500-48b6-b0a3-62a478e1839a",
   "metadata": {},
   "outputs": [],
   "source": [
    "others.remove(None)"
   ]
  },
  {
   "cell_type": "code",
   "execution_count": null,
   "id": "ff9e98b0-2731-4cff-bfe3-9cc829fec417",
   "metadata": {},
   "outputs": [],
   "source": [
    "#other_id = get_audio_features_slowly(others, 2, sp4)"
   ]
  },
  {
   "cell_type": "code",
   "execution_count": null,
   "id": "e866cc6c-0231-4bb5-9b8d-ac3f25bee0b8",
   "metadata": {},
   "outputs": [],
   "source": [
    "df = df.drop_duplicates()"
   ]
  },
  {
   "cell_type": "code",
   "execution_count": null,
   "id": "a275118e-1e7d-4be3-82bb-2a20f39d2dfc",
   "metadata": {},
   "outputs": [],
   "source": [
    "df.to_csv(\"song_info_fixed.csv\", index=False)"
   ]
  },
  {
   "cell_type": "code",
   "execution_count": null,
   "id": "e849bad4-3324-40af-b192-8b6243e9f2f4",
   "metadata": {},
   "outputs": [],
   "source": [
    "song_id_data = open(\"song_ids.txt\")\n",
    "for line in song_id_data:\n",
    "    l = line.split(\",,\")\n",
    "    if len(l) != 7:\n",
    "        print(l)\n",
    "        print((l[1] + l[2]))"
   ]
  },
  {
   "cell_type": "code",
   "execution_count": null,
   "id": "16349a11-063b-4eb7-99f1-b28074a51bb8",
   "metadata": {},
   "outputs": [
    {
     "name": "stderr",
     "output_type": "stream",
     "text": [
      "/tmp/ipykernel_165379/2564683587.py:1: ParserWarning: Falling back to the 'python' engine because the 'c' engine does not support regex separators (separators > 1 char and different from '\\s+' are interpreted as regex); you can avoid this warning by specifying engine='python'.\n",
      "  df2 = pd.read_csv(\"song_ids.txt\", sep=\",,\", header=None,\n"
     ]
    }
   ],
   "source": [
    "df2 = pd.read_csv(\"song_ids.txt\", sep=\",,\", header=None, \n",
    "                 names=[\"id\", \"song_name\", \"album_url\", \"popularity\", \"artist_name\", \"artist_id\", \"nl\"])"
   ]
  },
  {
   "cell_type": "code",
   "execution_count": null,
   "id": "a625a648-2df9-4655-96bf-ee9790612369",
   "metadata": {},
   "outputs": [],
   "source": [
    "df2 = df2.drop_duplicates()"
   ]
  },
  {
   "cell_type": "code",
   "execution_count": null,
   "id": "7c6ad6e7-bc4d-4ad1-a173-4b2756f9b8b0",
   "metadata": {},
   "outputs": [],
   "source": [
    "df3 = pd.merge(df, df2, on='id')"
   ]
  },
  {
   "cell_type": "code",
   "execution_count": null,
   "id": "4a6e719e-58d0-4a78-9427-2fcdc8e025d3",
   "metadata": {},
   "outputs": [],
   "source": [
    "df3.to_csv(\"song_info_final.csv\", index=False)"
   ]
  },
  {
   "cell_type": "code",
   "execution_count": null,
   "id": "e31ffda0-617c-441d-bda4-a6cc4cd10ba5",
   "metadata": {},
   "outputs": [],
   "source": [
    "df4 = pd.read_csv(\"song_info_final.csv\")"
   ]
  },
  {
   "cell_type": "code",
   "execution_count": null,
   "id": "1bdef7d2-8866-4ea9-9849-035f6496db21",
   "metadata": {},
   "outputs": [
    {
     "data": {
      "text/plain": [
       "Index(['danceability', 'energy', 'key', 'loudness', 'mode', 'speechiness',\n",
       "       'acousticness', 'instrumentalness', 'liveness', 'valence', 'tempo',\n",
       "       'type', 'id', 'uri', 'track_href', 'analysis_url', 'duration_ms',\n",
       "       'time_signature', 'song_name', 'album_url', 'popularity', 'artist_name',\n",
       "       'artist_id'],\n",
       "      dtype='object')"
      ]
     },
     "execution_count": 6,
     "metadata": {},
     "output_type": "execute_result"
    }
   ],
   "source": [
    "df4.columns"
   ]
  },
  {
   "cell_type": "code",
   "execution_count": null,
   "id": "2fb2173e-293d-41e1-bab3-5ba1d7694c7c",
   "metadata": {},
   "outputs": [],
   "source": []
  }
 ],
 "metadata": {
  "kernelspec": {
   "display_name": "env",
   "language": "python",
   "name": "python3"
  },
  "language_info": {
   "codemirror_mode": {
    "name": "ipython",
    "version": 3
   },
   "file_extension": ".py",
   "mimetype": "text/x-python",
   "name": "python",
   "nbconvert_exporter": "python",
   "pygments_lexer": "ipython3",
   "version": "3.9.13"
  }
 },
 "nbformat": 4,
 "nbformat_minor": 5
}
