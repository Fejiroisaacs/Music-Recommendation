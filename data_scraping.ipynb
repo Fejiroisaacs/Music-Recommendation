{
 "cells": [
  {
   "cell_type": "code",
   "execution_count": 7,
   "id": "dde23b0f-456d-499f-8957-2d7c01d05d59",
   "metadata": {},
   "outputs": [],
   "source": [
    "import pandas as pd\n",
    "import plotly.graph_objects as go\n",
    "import spotipy\n",
    "from spotipy.oauth2 import SpotifyClientCredentials\n",
    "from copy import deepcopy\n",
    "import time\n",
    "import csv"
   ]
  },
  {
   "cell_type": "markdown",
   "id": "0b34bb9d",
   "metadata": {},
   "source": [
    "This file serves as the basis for getting all 10000 song information. Not related to our code for recommending. See app.py for app logic, functions.py for functions used in recommendation, and music_rec.py for our testing file and connector between app and functions. "
   ]
  },
  {
   "cell_type": "code",
   "execution_count": 2,
   "id": "6770f4cc-01e1-413d-8a92-22178f5cec65",
   "metadata": {},
   "outputs": [],
   "source": [
    "CLIENT_ID = \"09f53c0a70fc4818ab7438fb2dff64dd\"\n",
    "CLIENT_SECRET = \"fcfcaea7cc9a42f697da7ce6d4680d3d\"\n",
    "my_username = \"Fejiro Anigboro\"\n",
    "\n",
    "# instantiating the client.  This 'sp' version of the client is used repeatedly below\n",
    "# source: Max Hilsdorf (https://towardsdatascience.com/how-to-create-large-music-datasets-using-spotipy-40e7242cc6a6)\n",
    "client_credentials_manager = SpotifyClientCredentials(client_id=CLIENT_ID, client_secret=CLIENT_SECRET)\n",
    "sp = spotipy.Spotify(client_credentials_manager=client_credentials_manager, status_retries=3, backoff_factor=0.3)"
   ]
  },
  {
   "cell_type": "code",
   "execution_count": 3,
   "id": "bfd2680a-4dc5-496b-ad1c-d2e503dfe2ab",
   "metadata": {},
   "outputs": [],
   "source": [
    "def get_playlist_tracks(creator_ID, playlist_ID):\n",
    "    # playlist_tracks(user_id: String, playlist_id: String): json_dict\n",
    "    playlist_tracks = pd.DataFrame(sp.user_playlist_tracks(creator_ID, playlist_ID))\n",
    "    return playlist_tracks"
   ]
  },
  {
   "cell_type": "code",
   "execution_count": 4,
   "id": "8212dd4d-e6d3-428e-81ce-52cc941e1eb5",
   "metadata": {},
   "outputs": [],
   "source": [
    "def get_playlist_ids(username,playlist_id):\n",
    "    r = sp.user_playlist_tracks(username,playlist_id)\n",
    "    t = r['items']\n",
    "    ids = []\n",
    "    song_info = []\n",
    "    while r['next']:\n",
    "        r = sp.next(r)\n",
    "        t.extend(r['items'])\n",
    "    for s in t: \n",
    "        ids.append(s[\"track\"][\"id\"]) \n",
    "        track_id = s[\"track\"][\"id\"]\n",
    "        song_name = s[\"track\"][\"name\"]\n",
    "        album_type = s['track']['album']['album_type'] \n",
    "        print(album_type)\n",
    "        #print(song_name)\n",
    "        \n",
    "        artist_name = s[\"track\"][\"artists\"][0][\"name\"]\n",
    "        #print(artist_name)\n",
    "        \n",
    "        # this gives the id of an artist\n",
    "        artist_id = s[\"track\"][\"artists\"][0][\"id\"] # use href if I need to get the full api call for this -- split by \"/\" thne get [-1] element\n",
    "        #print(artist_id) \n",
    "        \n",
    "        popularity = s[\"track\"][\"popularity\"]\n",
    "        \n",
    "        #print(s)\n",
    "        \n",
    "        try:\n",
    "            # getting the url of the album\n",
    "            album_url = s[\"track\"][\"artists\"][0][\"external_urls\"][\"spotify\"]\n",
    "            #print(album_url) # split by same condiiton above\n",
    "        except:\n",
    "            album_url = None\n",
    "        \n",
    "        song_info.append(f\"{track_id},, {song_name},, {album_url},, {popularity},, {artist_name},, {artist_id},,\\n\")\n",
    "        \n",
    "    \n",
    "    return song_info, ids"
   ]
  },
  {
   "cell_type": "code",
   "execution_count": 6,
   "id": "21c89d78-f290-43b5-bc37-d4763b1523e4",
   "metadata": {},
   "outputs": [
    {
     "name": "stdout",
     "output_type": "stream",
     "text": [
      "single\n",
      "album\n",
      "album\n",
      "album\n",
      "album\n",
      "album\n",
      "album\n",
      "album\n",
      "album\n",
      "album\n",
      "album\n"
     ]
    },
    {
     "ename": "KeyboardInterrupt",
     "evalue": "",
     "output_type": "error",
     "traceback": [
      "\u001b[1;31m---------------------------------------------------------------------------\u001b[0m",
      "\u001b[1;31mKeyboardInterrupt\u001b[0m                         Traceback (most recent call last)",
      "Cell \u001b[1;32mIn[6], line 2\u001b[0m\n\u001b[0;32m      1\u001b[0m test_pl \u001b[38;5;241m=\u001b[39m get_playlist_ids(\u001b[38;5;124m\"\u001b[39m\u001b[38;5;124mAny user\u001b[39m\u001b[38;5;124m\"\u001b[39m, \u001b[38;5;124m\"\u001b[39m\u001b[38;5;124m7mVCbkMcSXApmQ08F9uUi5\u001b[39m\u001b[38;5;124m\"\u001b[39m)\n\u001b[1;32m----> 2\u001b[0m pl_10000 \u001b[38;5;241m=\u001b[39m \u001b[43mget_playlist_ids\u001b[49m\u001b[43m(\u001b[49m\u001b[38;5;124;43m\"\u001b[39;49m\u001b[38;5;124;43mWillis Orr\u001b[39;49m\u001b[38;5;124;43m\"\u001b[39;49m\u001b[43m,\u001b[49m\u001b[43m \u001b[49m\u001b[38;5;124;43m\"\u001b[39;49m\u001b[38;5;124;43m5S8SJdl1BDc0ugpkEvFsIL\u001b[39;49m\u001b[38;5;124;43m\"\u001b[39;49m\u001b[43m)\u001b[49m\n",
      "Cell \u001b[1;32mIn[4], line 7\u001b[0m, in \u001b[0;36mget_playlist_ids\u001b[1;34m(username, playlist_id)\u001b[0m\n\u001b[0;32m      5\u001b[0m song_info \u001b[38;5;241m=\u001b[39m []\n\u001b[0;32m      6\u001b[0m \u001b[38;5;28;01mwhile\u001b[39;00m r[\u001b[38;5;124m'\u001b[39m\u001b[38;5;124mnext\u001b[39m\u001b[38;5;124m'\u001b[39m]:\n\u001b[1;32m----> 7\u001b[0m     r \u001b[38;5;241m=\u001b[39m \u001b[43msp\u001b[49m\u001b[38;5;241;43m.\u001b[39;49m\u001b[43mnext\u001b[49m\u001b[43m(\u001b[49m\u001b[43mr\u001b[49m\u001b[43m)\u001b[49m\n\u001b[0;32m      8\u001b[0m     t\u001b[38;5;241m.\u001b[39mextend(r[\u001b[38;5;124m'\u001b[39m\u001b[38;5;124mitems\u001b[39m\u001b[38;5;124m'\u001b[39m])\n\u001b[0;32m      9\u001b[0m \u001b[38;5;28;01mfor\u001b[39;00m s \u001b[38;5;129;01min\u001b[39;00m t: \n",
      "File \u001b[1;32mc:\\Users\\fejir\\anaconda3\\envs\\MusicRec\\lib\\site-packages\\spotipy\\client.py:347\u001b[0m, in \u001b[0;36mSpotify.next\u001b[1;34m(self, result)\u001b[0m\n\u001b[0;32m    341\u001b[0m \u001b[38;5;250m\u001b[39m\u001b[38;5;124;03m\"\"\" returns the next result given a paged result\u001b[39;00m\n\u001b[0;32m    342\u001b[0m \n\u001b[0;32m    343\u001b[0m \u001b[38;5;124;03m    Parameters:\u001b[39;00m\n\u001b[0;32m    344\u001b[0m \u001b[38;5;124;03m        - result - a previously returned paged result\u001b[39;00m\n\u001b[0;32m    345\u001b[0m \u001b[38;5;124;03m\"\"\"\u001b[39;00m\n\u001b[0;32m    346\u001b[0m \u001b[38;5;28;01mif\u001b[39;00m result[\u001b[38;5;124m\"\u001b[39m\u001b[38;5;124mnext\u001b[39m\u001b[38;5;124m\"\u001b[39m]:\n\u001b[1;32m--> 347\u001b[0m     \u001b[38;5;28;01mreturn\u001b[39;00m \u001b[38;5;28;43mself\u001b[39;49m\u001b[38;5;241;43m.\u001b[39;49m\u001b[43m_get\u001b[49m\u001b[43m(\u001b[49m\u001b[43mresult\u001b[49m\u001b[43m[\u001b[49m\u001b[38;5;124;43m\"\u001b[39;49m\u001b[38;5;124;43mnext\u001b[39;49m\u001b[38;5;124;43m\"\u001b[39;49m\u001b[43m]\u001b[49m\u001b[43m)\u001b[49m\n\u001b[0;32m    348\u001b[0m \u001b[38;5;28;01melse\u001b[39;00m:\n\u001b[0;32m    349\u001b[0m     \u001b[38;5;28;01mreturn\u001b[39;00m \u001b[38;5;28;01mNone\u001b[39;00m\n",
      "File \u001b[1;32mc:\\Users\\fejir\\anaconda3\\envs\\MusicRec\\lib\\site-packages\\spotipy\\client.py:323\u001b[0m, in \u001b[0;36mSpotify._get\u001b[1;34m(self, url, args, payload, **kwargs)\u001b[0m\n\u001b[0;32m    320\u001b[0m \u001b[38;5;28;01mif\u001b[39;00m args:\n\u001b[0;32m    321\u001b[0m     kwargs\u001b[38;5;241m.\u001b[39mupdate(args)\n\u001b[1;32m--> 323\u001b[0m \u001b[38;5;28;01mreturn\u001b[39;00m \u001b[38;5;28;43mself\u001b[39;49m\u001b[38;5;241;43m.\u001b[39;49m\u001b[43m_internal_call\u001b[49m\u001b[43m(\u001b[49m\u001b[38;5;124;43m\"\u001b[39;49m\u001b[38;5;124;43mGET\u001b[39;49m\u001b[38;5;124;43m\"\u001b[39;49m\u001b[43m,\u001b[49m\u001b[43m \u001b[49m\u001b[43murl\u001b[49m\u001b[43m,\u001b[49m\u001b[43m \u001b[49m\u001b[43mpayload\u001b[49m\u001b[43m,\u001b[49m\u001b[43m \u001b[49m\u001b[43mkwargs\u001b[49m\u001b[43m)\u001b[49m\n",
      "File \u001b[1;32mc:\\Users\\fejir\\anaconda3\\envs\\MusicRec\\lib\\site-packages\\spotipy\\client.py:266\u001b[0m, in \u001b[0;36mSpotify._internal_call\u001b[1;34m(self, method, url, payload, params)\u001b[0m\n\u001b[0;32m    262\u001b[0m logger\u001b[38;5;241m.\u001b[39mdebug(\u001b[38;5;124m'\u001b[39m\u001b[38;5;124mSending \u001b[39m\u001b[38;5;132;01m%s\u001b[39;00m\u001b[38;5;124m to \u001b[39m\u001b[38;5;132;01m%s\u001b[39;00m\u001b[38;5;124m with Params: \u001b[39m\u001b[38;5;132;01m%s\u001b[39;00m\u001b[38;5;124m Headers: \u001b[39m\u001b[38;5;132;01m%s\u001b[39;00m\u001b[38;5;124m and Body: \u001b[39m\u001b[38;5;132;01m%r\u001b[39;00m\u001b[38;5;124m \u001b[39m\u001b[38;5;124m'\u001b[39m,\n\u001b[0;32m    263\u001b[0m              method, url, args\u001b[38;5;241m.\u001b[39mget(\u001b[38;5;124m\"\u001b[39m\u001b[38;5;124mparams\u001b[39m\u001b[38;5;124m\"\u001b[39m), headers, args\u001b[38;5;241m.\u001b[39mget(\u001b[38;5;124m'\u001b[39m\u001b[38;5;124mdata\u001b[39m\u001b[38;5;124m'\u001b[39m))\n\u001b[0;32m    265\u001b[0m \u001b[38;5;28;01mtry\u001b[39;00m:\n\u001b[1;32m--> 266\u001b[0m     response \u001b[38;5;241m=\u001b[39m \u001b[38;5;28mself\u001b[39m\u001b[38;5;241m.\u001b[39m_session\u001b[38;5;241m.\u001b[39mrequest(\n\u001b[0;32m    267\u001b[0m         method, url, headers\u001b[38;5;241m=\u001b[39mheaders, proxies\u001b[38;5;241m=\u001b[39m\u001b[38;5;28mself\u001b[39m\u001b[38;5;241m.\u001b[39mproxies,\n\u001b[0;32m    268\u001b[0m         timeout\u001b[38;5;241m=\u001b[39m\u001b[38;5;28mself\u001b[39m\u001b[38;5;241m.\u001b[39mrequests_timeout, \u001b[38;5;241m*\u001b[39m\u001b[38;5;241m*\u001b[39margs\n\u001b[0;32m    269\u001b[0m     )\n\u001b[0;32m    271\u001b[0m     response\u001b[38;5;241m.\u001b[39mraise_for_status()\n\u001b[0;32m    272\u001b[0m     results \u001b[38;5;241m=\u001b[39m response\u001b[38;5;241m.\u001b[39mjson()\n",
      "File \u001b[1;32mc:\\Users\\fejir\\anaconda3\\envs\\MusicRec\\lib\\site-packages\\requests\\sessions.py:589\u001b[0m, in \u001b[0;36mSession.request\u001b[1;34m(self, method, url, params, data, headers, cookies, files, auth, timeout, allow_redirects, proxies, hooks, stream, verify, cert, json)\u001b[0m\n\u001b[0;32m    584\u001b[0m send_kwargs \u001b[38;5;241m=\u001b[39m {\n\u001b[0;32m    585\u001b[0m     \u001b[38;5;124m\"\u001b[39m\u001b[38;5;124mtimeout\u001b[39m\u001b[38;5;124m\"\u001b[39m: timeout,\n\u001b[0;32m    586\u001b[0m     \u001b[38;5;124m\"\u001b[39m\u001b[38;5;124mallow_redirects\u001b[39m\u001b[38;5;124m\"\u001b[39m: allow_redirects,\n\u001b[0;32m    587\u001b[0m }\n\u001b[0;32m    588\u001b[0m send_kwargs\u001b[38;5;241m.\u001b[39mupdate(settings)\n\u001b[1;32m--> 589\u001b[0m resp \u001b[38;5;241m=\u001b[39m \u001b[38;5;28mself\u001b[39m\u001b[38;5;241m.\u001b[39msend(prep, \u001b[38;5;241m*\u001b[39m\u001b[38;5;241m*\u001b[39msend_kwargs)\n\u001b[0;32m    591\u001b[0m \u001b[38;5;28;01mreturn\u001b[39;00m resp\n",
      "File \u001b[1;32mc:\\Users\\fejir\\anaconda3\\envs\\MusicRec\\lib\\site-packages\\requests\\sessions.py:747\u001b[0m, in \u001b[0;36mSession.send\u001b[1;34m(self, request, **kwargs)\u001b[0m\n\u001b[0;32m    744\u001b[0m         \u001b[38;5;28;01mpass\u001b[39;00m\n\u001b[0;32m    746\u001b[0m \u001b[38;5;28;01mif\u001b[39;00m \u001b[38;5;129;01mnot\u001b[39;00m stream:\n\u001b[1;32m--> 747\u001b[0m     \u001b[43mr\u001b[49m\u001b[38;5;241;43m.\u001b[39;49m\u001b[43mcontent\u001b[49m\n\u001b[0;32m    749\u001b[0m \u001b[38;5;28;01mreturn\u001b[39;00m r\n",
      "File \u001b[1;32mc:\\Users\\fejir\\anaconda3\\envs\\MusicRec\\lib\\site-packages\\requests\\models.py:899\u001b[0m, in \u001b[0;36mResponse.content\u001b[1;34m(self)\u001b[0m\n\u001b[0;32m    897\u001b[0m         \u001b[38;5;28mself\u001b[39m\u001b[38;5;241m.\u001b[39m_content \u001b[38;5;241m=\u001b[39m \u001b[38;5;28;01mNone\u001b[39;00m\n\u001b[0;32m    898\u001b[0m     \u001b[38;5;28;01melse\u001b[39;00m:\n\u001b[1;32m--> 899\u001b[0m         \u001b[38;5;28mself\u001b[39m\u001b[38;5;241m.\u001b[39m_content \u001b[38;5;241m=\u001b[39m \u001b[38;5;124;43mb\u001b[39;49m\u001b[38;5;124;43m\"\u001b[39;49m\u001b[38;5;124;43m\"\u001b[39;49m\u001b[38;5;241;43m.\u001b[39;49m\u001b[43mjoin\u001b[49m\u001b[43m(\u001b[49m\u001b[38;5;28;43mself\u001b[39;49m\u001b[38;5;241;43m.\u001b[39;49m\u001b[43miter_content\u001b[49m\u001b[43m(\u001b[49m\u001b[43mCONTENT_CHUNK_SIZE\u001b[49m\u001b[43m)\u001b[49m\u001b[43m)\u001b[49m \u001b[38;5;129;01mor\u001b[39;00m \u001b[38;5;124mb\u001b[39m\u001b[38;5;124m\"\u001b[39m\u001b[38;5;124m\"\u001b[39m\n\u001b[0;32m    901\u001b[0m \u001b[38;5;28mself\u001b[39m\u001b[38;5;241m.\u001b[39m_content_consumed \u001b[38;5;241m=\u001b[39m \u001b[38;5;28;01mTrue\u001b[39;00m\n\u001b[0;32m    902\u001b[0m \u001b[38;5;66;03m# don't need to release the connection; that's been handled by urllib3\u001b[39;00m\n\u001b[0;32m    903\u001b[0m \u001b[38;5;66;03m# since we exhausted the data.\u001b[39;00m\n",
      "File \u001b[1;32mc:\\Users\\fejir\\anaconda3\\envs\\MusicRec\\lib\\site-packages\\requests\\models.py:816\u001b[0m, in \u001b[0;36mResponse.iter_content.<locals>.generate\u001b[1;34m()\u001b[0m\n\u001b[0;32m    814\u001b[0m \u001b[38;5;28;01mif\u001b[39;00m \u001b[38;5;28mhasattr\u001b[39m(\u001b[38;5;28mself\u001b[39m\u001b[38;5;241m.\u001b[39mraw, \u001b[38;5;124m\"\u001b[39m\u001b[38;5;124mstream\u001b[39m\u001b[38;5;124m\"\u001b[39m):\n\u001b[0;32m    815\u001b[0m     \u001b[38;5;28;01mtry\u001b[39;00m:\n\u001b[1;32m--> 816\u001b[0m         \u001b[38;5;28;01myield from\u001b[39;00m \u001b[38;5;28mself\u001b[39m\u001b[38;5;241m.\u001b[39mraw\u001b[38;5;241m.\u001b[39mstream(chunk_size, decode_content\u001b[38;5;241m=\u001b[39m\u001b[38;5;28;01mTrue\u001b[39;00m)\n\u001b[0;32m    817\u001b[0m     \u001b[38;5;28;01mexcept\u001b[39;00m ProtocolError \u001b[38;5;28;01mas\u001b[39;00m e:\n\u001b[0;32m    818\u001b[0m         \u001b[38;5;28;01mraise\u001b[39;00m ChunkedEncodingError(e)\n",
      "File \u001b[1;32mc:\\Users\\fejir\\anaconda3\\envs\\MusicRec\\lib\\site-packages\\urllib3\\response.py:931\u001b[0m, in \u001b[0;36mHTTPResponse.stream\u001b[1;34m(self, amt, decode_content)\u001b[0m\n\u001b[0;32m    915\u001b[0m \u001b[38;5;250m\u001b[39m\u001b[38;5;124;03m\"\"\"\u001b[39;00m\n\u001b[0;32m    916\u001b[0m \u001b[38;5;124;03mA generator wrapper for the read() method. A call will block until\u001b[39;00m\n\u001b[0;32m    917\u001b[0m \u001b[38;5;124;03m``amt`` bytes have been read from the connection or until the\u001b[39;00m\n\u001b[1;32m   (...)\u001b[0m\n\u001b[0;32m    928\u001b[0m \u001b[38;5;124;03m    'content-encoding' header.\u001b[39;00m\n\u001b[0;32m    929\u001b[0m \u001b[38;5;124;03m\"\"\"\u001b[39;00m\n\u001b[0;32m    930\u001b[0m \u001b[38;5;28;01mif\u001b[39;00m \u001b[38;5;28mself\u001b[39m\u001b[38;5;241m.\u001b[39mchunked \u001b[38;5;129;01mand\u001b[39;00m \u001b[38;5;28mself\u001b[39m\u001b[38;5;241m.\u001b[39msupports_chunked_reads():\n\u001b[1;32m--> 931\u001b[0m     \u001b[38;5;28;01myield from\u001b[39;00m \u001b[38;5;28mself\u001b[39m\u001b[38;5;241m.\u001b[39mread_chunked(amt, decode_content\u001b[38;5;241m=\u001b[39mdecode_content)\n\u001b[0;32m    932\u001b[0m \u001b[38;5;28;01melse\u001b[39;00m:\n\u001b[0;32m    933\u001b[0m     \u001b[38;5;28;01mwhile\u001b[39;00m \u001b[38;5;129;01mnot\u001b[39;00m is_fp_closed(\u001b[38;5;28mself\u001b[39m\u001b[38;5;241m.\u001b[39m_fp) \u001b[38;5;129;01mor\u001b[39;00m \u001b[38;5;28mlen\u001b[39m(\u001b[38;5;28mself\u001b[39m\u001b[38;5;241m.\u001b[39m_decoded_buffer) \u001b[38;5;241m>\u001b[39m \u001b[38;5;241m0\u001b[39m:\n",
      "File \u001b[1;32mc:\\Users\\fejir\\anaconda3\\envs\\MusicRec\\lib\\site-packages\\urllib3\\response.py:1074\u001b[0m, in \u001b[0;36mHTTPResponse.read_chunked\u001b[1;34m(self, amt, decode_content)\u001b[0m\n\u001b[0;32m   1072\u001b[0m \u001b[38;5;28;01mif\u001b[39;00m \u001b[38;5;28mself\u001b[39m\u001b[38;5;241m.\u001b[39mchunk_left \u001b[38;5;241m==\u001b[39m \u001b[38;5;241m0\u001b[39m:\n\u001b[0;32m   1073\u001b[0m     \u001b[38;5;28;01mbreak\u001b[39;00m\n\u001b[1;32m-> 1074\u001b[0m chunk \u001b[38;5;241m=\u001b[39m \u001b[38;5;28;43mself\u001b[39;49m\u001b[38;5;241;43m.\u001b[39;49m\u001b[43m_handle_chunk\u001b[49m\u001b[43m(\u001b[49m\u001b[43mamt\u001b[49m\u001b[43m)\u001b[49m\n\u001b[0;32m   1075\u001b[0m decoded \u001b[38;5;241m=\u001b[39m \u001b[38;5;28mself\u001b[39m\u001b[38;5;241m.\u001b[39m_decode(\n\u001b[0;32m   1076\u001b[0m     chunk, decode_content\u001b[38;5;241m=\u001b[39mdecode_content, flush_decoder\u001b[38;5;241m=\u001b[39m\u001b[38;5;28;01mFalse\u001b[39;00m\n\u001b[0;32m   1077\u001b[0m )\n\u001b[0;32m   1078\u001b[0m \u001b[38;5;28;01mif\u001b[39;00m decoded:\n",
      "File \u001b[1;32mc:\\Users\\fejir\\anaconda3\\envs\\MusicRec\\lib\\site-packages\\urllib3\\response.py:1025\u001b[0m, in \u001b[0;36mHTTPResponse._handle_chunk\u001b[1;34m(self, amt)\u001b[0m\n\u001b[0;32m   1023\u001b[0m     returned_chunk \u001b[38;5;241m=\u001b[39m value\n\u001b[0;32m   1024\u001b[0m \u001b[38;5;28;01melse\u001b[39;00m:  \u001b[38;5;66;03m# amt > self.chunk_left\u001b[39;00m\n\u001b[1;32m-> 1025\u001b[0m     returned_chunk \u001b[38;5;241m=\u001b[39m \u001b[38;5;28;43mself\u001b[39;49m\u001b[38;5;241;43m.\u001b[39;49m\u001b[43m_fp\u001b[49m\u001b[38;5;241;43m.\u001b[39;49m\u001b[43m_safe_read\u001b[49m\u001b[43m(\u001b[49m\u001b[38;5;28;43mself\u001b[39;49m\u001b[38;5;241;43m.\u001b[39;49m\u001b[43mchunk_left\u001b[49m\u001b[43m)\u001b[49m  \u001b[38;5;66;03m# type: ignore[union-attr]\u001b[39;00m\n\u001b[0;32m   1026\u001b[0m     \u001b[38;5;28mself\u001b[39m\u001b[38;5;241m.\u001b[39m_fp\u001b[38;5;241m.\u001b[39m_safe_read(\u001b[38;5;241m2\u001b[39m)  \u001b[38;5;66;03m# type: ignore[union-attr] # Toss the CRLF at the end of the chunk.\u001b[39;00m\n\u001b[0;32m   1027\u001b[0m     \u001b[38;5;28mself\u001b[39m\u001b[38;5;241m.\u001b[39mchunk_left \u001b[38;5;241m=\u001b[39m \u001b[38;5;28;01mNone\u001b[39;00m\n",
      "File \u001b[1;32mc:\\Users\\fejir\\anaconda3\\envs\\MusicRec\\lib\\http\\client.py:626\u001b[0m, in \u001b[0;36mHTTPResponse._safe_read\u001b[1;34m(self, amt)\u001b[0m\n\u001b[0;32m    624\u001b[0m s \u001b[38;5;241m=\u001b[39m []\n\u001b[0;32m    625\u001b[0m \u001b[38;5;28;01mwhile\u001b[39;00m amt \u001b[38;5;241m>\u001b[39m \u001b[38;5;241m0\u001b[39m:\n\u001b[1;32m--> 626\u001b[0m     chunk \u001b[38;5;241m=\u001b[39m \u001b[38;5;28;43mself\u001b[39;49m\u001b[38;5;241;43m.\u001b[39;49m\u001b[43mfp\u001b[49m\u001b[38;5;241;43m.\u001b[39;49m\u001b[43mread\u001b[49m\u001b[43m(\u001b[49m\u001b[38;5;28;43mmin\u001b[39;49m\u001b[43m(\u001b[49m\u001b[43mamt\u001b[49m\u001b[43m,\u001b[49m\u001b[43m \u001b[49m\u001b[43mMAXAMOUNT\u001b[49m\u001b[43m)\u001b[49m\u001b[43m)\u001b[49m\n\u001b[0;32m    627\u001b[0m     \u001b[38;5;28;01mif\u001b[39;00m \u001b[38;5;129;01mnot\u001b[39;00m chunk:\n\u001b[0;32m    628\u001b[0m         \u001b[38;5;28;01mraise\u001b[39;00m IncompleteRead(\u001b[38;5;124mb\u001b[39m\u001b[38;5;124m'\u001b[39m\u001b[38;5;124m'\u001b[39m\u001b[38;5;241m.\u001b[39mjoin(s), amt)\n",
      "File \u001b[1;32mc:\\Users\\fejir\\anaconda3\\envs\\MusicRec\\lib\\socket.py:704\u001b[0m, in \u001b[0;36mSocketIO.readinto\u001b[1;34m(self, b)\u001b[0m\n\u001b[0;32m    702\u001b[0m \u001b[38;5;28;01mwhile\u001b[39;00m \u001b[38;5;28;01mTrue\u001b[39;00m:\n\u001b[0;32m    703\u001b[0m     \u001b[38;5;28;01mtry\u001b[39;00m:\n\u001b[1;32m--> 704\u001b[0m         \u001b[38;5;28;01mreturn\u001b[39;00m \u001b[38;5;28;43mself\u001b[39;49m\u001b[38;5;241;43m.\u001b[39;49m\u001b[43m_sock\u001b[49m\u001b[38;5;241;43m.\u001b[39;49m\u001b[43mrecv_into\u001b[49m\u001b[43m(\u001b[49m\u001b[43mb\u001b[49m\u001b[43m)\u001b[49m\n\u001b[0;32m    705\u001b[0m     \u001b[38;5;28;01mexcept\u001b[39;00m timeout:\n\u001b[0;32m    706\u001b[0m         \u001b[38;5;28mself\u001b[39m\u001b[38;5;241m.\u001b[39m_timeout_occurred \u001b[38;5;241m=\u001b[39m \u001b[38;5;28;01mTrue\u001b[39;00m\n",
      "File \u001b[1;32mc:\\Users\\fejir\\anaconda3\\envs\\MusicRec\\lib\\ssl.py:1275\u001b[0m, in \u001b[0;36mSSLSocket.recv_into\u001b[1;34m(self, buffer, nbytes, flags)\u001b[0m\n\u001b[0;32m   1271\u001b[0m     \u001b[38;5;28;01mif\u001b[39;00m flags \u001b[38;5;241m!=\u001b[39m \u001b[38;5;241m0\u001b[39m:\n\u001b[0;32m   1272\u001b[0m         \u001b[38;5;28;01mraise\u001b[39;00m \u001b[38;5;167;01mValueError\u001b[39;00m(\n\u001b[0;32m   1273\u001b[0m           \u001b[38;5;124m\"\u001b[39m\u001b[38;5;124mnon-zero flags not allowed in calls to recv_into() on \u001b[39m\u001b[38;5;132;01m%s\u001b[39;00m\u001b[38;5;124m\"\u001b[39m \u001b[38;5;241m%\u001b[39m\n\u001b[0;32m   1274\u001b[0m           \u001b[38;5;28mself\u001b[39m\u001b[38;5;241m.\u001b[39m\u001b[38;5;18m__class__\u001b[39m)\n\u001b[1;32m-> 1275\u001b[0m     \u001b[38;5;28;01mreturn\u001b[39;00m \u001b[38;5;28;43mself\u001b[39;49m\u001b[38;5;241;43m.\u001b[39;49m\u001b[43mread\u001b[49m\u001b[43m(\u001b[49m\u001b[43mnbytes\u001b[49m\u001b[43m,\u001b[49m\u001b[43m \u001b[49m\u001b[43mbuffer\u001b[49m\u001b[43m)\u001b[49m\n\u001b[0;32m   1276\u001b[0m \u001b[38;5;28;01melse\u001b[39;00m:\n\u001b[0;32m   1277\u001b[0m     \u001b[38;5;28;01mreturn\u001b[39;00m \u001b[38;5;28msuper\u001b[39m()\u001b[38;5;241m.\u001b[39mrecv_into(buffer, nbytes, flags)\n",
      "File \u001b[1;32mc:\\Users\\fejir\\anaconda3\\envs\\MusicRec\\lib\\ssl.py:1133\u001b[0m, in \u001b[0;36mSSLSocket.read\u001b[1;34m(self, len, buffer)\u001b[0m\n\u001b[0;32m   1131\u001b[0m \u001b[38;5;28;01mtry\u001b[39;00m:\n\u001b[0;32m   1132\u001b[0m     \u001b[38;5;28;01mif\u001b[39;00m buffer \u001b[38;5;129;01mis\u001b[39;00m \u001b[38;5;129;01mnot\u001b[39;00m \u001b[38;5;28;01mNone\u001b[39;00m:\n\u001b[1;32m-> 1133\u001b[0m         \u001b[38;5;28;01mreturn\u001b[39;00m \u001b[38;5;28;43mself\u001b[39;49m\u001b[38;5;241;43m.\u001b[39;49m\u001b[43m_sslobj\u001b[49m\u001b[38;5;241;43m.\u001b[39;49m\u001b[43mread\u001b[49m\u001b[43m(\u001b[49m\u001b[38;5;28;43mlen\u001b[39;49m\u001b[43m,\u001b[49m\u001b[43m \u001b[49m\u001b[43mbuffer\u001b[49m\u001b[43m)\u001b[49m\n\u001b[0;32m   1134\u001b[0m     \u001b[38;5;28;01melse\u001b[39;00m:\n\u001b[0;32m   1135\u001b[0m         \u001b[38;5;28;01mreturn\u001b[39;00m \u001b[38;5;28mself\u001b[39m\u001b[38;5;241m.\u001b[39m_sslobj\u001b[38;5;241m.\u001b[39mread(\u001b[38;5;28mlen\u001b[39m)\n",
      "\u001b[1;31mKeyboardInterrupt\u001b[0m: "
     ]
    }
   ],
   "source": [
    "test_pl = get_playlist_ids(\"Any user\", \"7mVCbkMcSXApmQ08F9uUi5\")\n",
    "pl_10000 = get_playlist_ids(\"Willis Orr\", \"5S8SJdl1BDc0ugpkEvFsIL\")"
   ]
  },
  {
   "cell_type": "code",
   "execution_count": null,
   "id": "ae458faa-f67e-49f7-9d79-10cbe14f7992",
   "metadata": {},
   "outputs": [],
   "source": [
    "song_id = open(\"song_ids.txt\", \"a\")"
   ]
  },
  {
   "cell_type": "code",
   "execution_count": null,
   "id": "a55e3e41-c7c8-4acd-9243-1aa4986fe681",
   "metadata": {},
   "outputs": [
    {
     "name": "stdout",
     "output_type": "stream",
     "text": [
      "10000\n"
     ]
    },
    {
     "data": {
      "text/plain": [
       "['1SgUjGzbmmMOsGFTVwQ59L,, seaside_demo,, https://open.spotify.com/artist/7oPxPZSk7y5q0fhzpmX5Gi,, 69,, SEB,, 7oPxPZSk7y5q0fhzpmX5Gi',\n",
       " '6I3mqTwhRpn34SLVafSH7G,, Ghost,, https://open.spotify.com/artist/1uNFoZAHBGtllmzznpCI3s,, 88,, Justin Bieber,, 1uNFoZAHBGtllmzznpCI3s',\n",
       " '23khhseCLQqVMCIT1WMAns,, Magic,, https://open.spotify.com/artist/4gzpq5DPGxSnKTe4SA8HAU,, 75,, Coldplay,, 4gzpq5DPGxSnKTe4SA8HAU',\n",
       " '1nTzXNZCnZ0T7S8BqkL98r,, how deep?,, https://open.spotify.com/artist/2kCO8LXN1usaOPL3iEE28I,, 62,, Tai Verdes,, 2kCO8LXN1usaOPL3iEE28I',\n",
       " '35AG36QH9ytiNtPyx9xwr8,, Chemicals,, https://open.spotify.com/artist/3QSQFmccmX81fWCUSPTS7y,, 61,, Dean Lewis,, 3QSQFmccmX81fWCUSPTS7y',\n",
       " '5C1TucCRf4Vjjree1OItyv,, One,, https://open.spotify.com/artist/4GNC7GD6oZMSxPGyXy4MNB,, 68,, Lewis Capaldi,, 4GNC7GD6oZMSxPGyXy4MNB',\n",
       " '0QA40eWNCs6gBrJMaMDkgR,, Apologize,, https://open.spotify.com/artist/19y5MFBH7gohEdGwKM7QsP,, 31,, Luther Vandross,, 19y5MFBH7gohEdGwKM7QsP',\n",
       " '5p0ietGkLNEqx1Z7ijkw5g,, My Love,, https://open.spotify.com/artist/5Z1CCuBsyhEHngq3U5IraY,, 72,, Westlife,, 5Z1CCuBsyhEHngq3U5IraY',\n",
       " '6UelLqGlWMcVH1E5c4H7lY,, Watermelon Sugar,, https://open.spotify.com/artist/6KImCVD70vtIoJWnq6nGn3,, 88,, Harry Styles,, 6KImCVD70vtIoJWnq6nGn3',\n",
       " '3USxtqRwSYz57Ewm6wWRMp,, Heat Waves,, https://open.spotify.com/artist/4yvcSjfu4PC0CYQyLy4wSq,, 90,, Glass Animals,, 4yvcSjfu4PC0CYQyLy4wSq',\n",
       " '5Pgq1Gfeth2CuUhyCXwlfC,, Take It Easy,, https://open.spotify.com/artist/4ETSs924pXMzjIeD6E9b4u,, 46,, Surfaces,, 4ETSs924pXMzjIeD6E9b4u']"
      ]
     },
     "execution_count": 78,
     "metadata": {},
     "output_type": "execute_result"
    }
   ],
   "source": [
    "#sp.audio_analysis(pl[1])\n",
    "#sp.audio_features(tracks=[pl[i] for i in range(100)])\n",
    "#sp.audio_features(pl[0])\n",
    "print(len(pl_10000[1]))\n",
    "test_pl[0]"
   ]
  },
  {
   "cell_type": "code",
   "execution_count": null,
   "id": "dda8aa66-af28-49ae-82a7-ea00c0c58005",
   "metadata": {},
   "outputs": [],
   "source": [
    "def get_SP(ID, Secret, Name):\n",
    "    CLIENT_ID = ID\n",
    "    CLIENT_SECRET = Secret\n",
    "    my_username = Name\n",
    "\n",
    "    # instantiating the client.  This 'sp' version of the client is used repeatedly below\n",
    "    # source: Max Hilsdorf (https://towardsdatascience.com/how-to-create-large-music-datasets-using-spotipy-40e7242cc6a6)\n",
    "    client_credentials_manager = SpotifyClientCredentials(client_id=CLIENT_ID, client_secret=CLIENT_SECRET)\n",
    "    sp = spotipy.Spotify(client_credentials_manager=client_credentials_manager, status_retries=3, backoff_factor=0.3)\n",
    "    \n",
    "    return sp"
   ]
  },
  {
   "cell_type": "code",
   "execution_count": null,
   "id": "425ca530-0c8d-4d00-8021-b21b0c1d0127",
   "metadata": {},
   "outputs": [],
   "source": [
    "def get_audio_features_slowly(track_info, time_delay, sp):\n",
    "    track_dict_list = []\n",
    "    tracker = 0\n",
    "    for track in track_info:\n",
    "        tracker += 1\n",
    "        try:\n",
    "            time.sleep(time_delay)\n",
    "            audio_features_temp = sp.audio_features(track)\n",
    "            # test for missing values\n",
    "            # this_track_dict.update(audio_features_temp)\n",
    "            track_dict_list.append(audio_features_temp)\n",
    "        except Exception as e:\n",
    "            print(e, track)\n",
    "            print(e)\n",
    "        print(tracker)\n",
    "    # audio_features = pd.DataFrame(track_dict_list)\n",
    "    # return audio_features\n",
    "    return track_dict_list"
   ]
  },
  {
   "cell_type": "code",
   "execution_count": null,
   "id": "0d98a9c9-2b3b-4fc4-9a24-b61999d24c32",
   "metadata": {},
   "outputs": [],
   "source": [
    "sp1 = get_SP(\"922db1c93c90406fb8608e2729577cf4\", \"8561aa0a985f470f91193d912a494287\", \"my_spotify_name\")\n",
    "sp2 = get_SP(\"79724bfb388b451e9d80af9972ed118f\", \"4c1784725f7a468aa97127ee54d63209\", \"my_spotify_rami\")\n",
    "sp3 = get_SP(\"d7e20fdf6b044b8c83c6ef74045bd89d\", \"bb863640b3844f3a84289182ce5a7c01\", \"my_spotify_Idan\")\n",
    "sp4 = get_SP(\"6ca97a1822a849458f3c105d5f83e3c2\", \"bb57f33f51da4321b14e0f5309abf7ca\", \"my_spotify_F2\")"
   ]
  },
  {
   "cell_type": "code",
   "execution_count": null,
   "id": "bc1db750-8352-4c8a-a827-141200e4db76",
   "metadata": {},
   "outputs": [],
   "source": [
    "# stopped at 3982 --- continue at 3982 - 1200"
   ]
  },
  {
   "cell_type": "code",
   "execution_count": null,
   "id": "44200184-af93-43cc-a775-57f04620ba02",
   "metadata": {},
   "outputs": [],
   "source": [
    "c = get_audio_features_slowly(test_pl[1][0::], 2, sp3)"
   ]
  },
  {
   "cell_type": "code",
   "execution_count": null,
   "id": "4c90fec3-4102-413f-a9d5-4148d9ce80c6",
   "metadata": {},
   "outputs": [],
   "source": [
    "def csv_writer(info):\n",
    "    with open('song_infos_fixed.csv', 'a', newline='') as file:\n",
    "        # Step 4: Using csv.writer to write the list to the CSV file\n",
    "        writer = csv.writer(file)\n",
    "        writer.writerow(info) # Use writerow for single list"
   ]
  },
  {
   "cell_type": "code",
   "execution_count": null,
   "id": "67eebcc9-3cab-4cbb-a670-1bd6062f1777",
   "metadata": {},
   "outputs": [],
   "source": [
    "#csv_writer(list(c[0][0].keys()))"
   ]
  },
  {
   "cell_type": "code",
   "execution_count": null,
   "id": "1eb94622-e712-4e53-90f9-9c8ded671172",
   "metadata": {},
   "outputs": [],
   "source": [
    "# writing column names\n",
    "for a in c: \n",
    "    try:\n",
    "        csv_writer(list(a[0].values()))\n",
    "    except AttributeError:\n",
    "        pass"
   ]
  },
  {
   "cell_type": "code",
   "execution_count": null,
   "id": "fb276326-a169-4c1b-9fd1-040f06d4380f",
   "metadata": {},
   "outputs": [],
   "source": [
    "df = pd.read_csv(\"song_infos.csv\")"
   ]
  },
  {
   "cell_type": "code",
   "execution_count": null,
   "id": "162859dc-7b6b-4737-b0ce-6522ce1e6749",
   "metadata": {},
   "outputs": [
    {
     "name": "stdout",
     "output_type": "stream",
     "text": [
      "0\n",
      "9944 9944\n"
     ]
    }
   ],
   "source": [
    "td = 0\n",
    "for a in list(df.duplicated()):\n",
    "    if a == True:\n",
    "        td+=1\n",
    "print(td)\n",
    "print(len(list(df[\"id\"])), len(set(list(df['id']))))"
   ]
  },
  {
   "cell_type": "code",
   "execution_count": null,
   "id": "1b0df600-4f40-45aa-a105-99b8a8130e03",
   "metadata": {},
   "outputs": [],
   "source": [
    "def get_other_id(df):\n",
    "    play_list_ids = list(df[\"id\"])\n",
    "    compare = pl_10000[1]\n",
    "    \n",
    "    needed_ids = set(compare) - set(play_list_ids)\n",
    "    \n",
    "    return needed_ids"
   ]
  },
  {
   "cell_type": "code",
   "execution_count": null,
   "id": "2603a805-c0ba-423b-8149-9031f5e168d9",
   "metadata": {},
   "outputs": [],
   "source": [
    "others = get_other_id(df)"
   ]
  },
  {
   "cell_type": "code",
   "execution_count": null,
   "id": "192e3149-6500-48b6-b0a3-62a478e1839a",
   "metadata": {},
   "outputs": [],
   "source": [
    "others.remove(None)"
   ]
  },
  {
   "cell_type": "code",
   "execution_count": null,
   "id": "ff9e98b0-2731-4cff-bfe3-9cc829fec417",
   "metadata": {},
   "outputs": [],
   "source": [
    "#other_id = get_audio_features_slowly(others, 2, sp4)"
   ]
  },
  {
   "cell_type": "code",
   "execution_count": null,
   "id": "e866cc6c-0231-4bb5-9b8d-ac3f25bee0b8",
   "metadata": {},
   "outputs": [],
   "source": [
    "df = df.drop_duplicates()"
   ]
  },
  {
   "cell_type": "code",
   "execution_count": null,
   "id": "a275118e-1e7d-4be3-82bb-2a20f39d2dfc",
   "metadata": {},
   "outputs": [],
   "source": [
    "df.to_csv(\"song_info_fixed.csv\", index=False)"
   ]
  },
  {
   "cell_type": "code",
   "execution_count": null,
   "id": "e849bad4-3324-40af-b192-8b6243e9f2f4",
   "metadata": {},
   "outputs": [],
   "source": [
    "song_id_data = open(\"song_ids.txt\")\n",
    "for line in song_id_data:\n",
    "    l = line.split(\",,\")\n",
    "    if len(l) != 7:\n",
    "        print(l)\n",
    "        print((l[1] + l[2]))"
   ]
  },
  {
   "cell_type": "code",
   "execution_count": null,
   "id": "16349a11-063b-4eb7-99f1-b28074a51bb8",
   "metadata": {},
   "outputs": [
    {
     "name": "stderr",
     "output_type": "stream",
     "text": [
      "/tmp/ipykernel_165379/2564683587.py:1: ParserWarning: Falling back to the 'python' engine because the 'c' engine does not support regex separators (separators > 1 char and different from '\\s+' are interpreted as regex); you can avoid this warning by specifying engine='python'.\n",
      "  df2 = pd.read_csv(\"song_ids.txt\", sep=\",,\", header=None,\n"
     ]
    }
   ],
   "source": [
    "df2 = pd.read_csv(\"song_ids.txt\", sep=\",,\", header=None, \n",
    "                 names=[\"id\", \"song_name\", \"album_url\", \"popularity\", \"artist_name\", \"artist_id\", \"nl\"])"
   ]
  },
  {
   "cell_type": "code",
   "execution_count": null,
   "id": "a625a648-2df9-4655-96bf-ee9790612369",
   "metadata": {},
   "outputs": [],
   "source": [
    "df2 = df2.drop_duplicates()"
   ]
  },
  {
   "cell_type": "code",
   "execution_count": null,
   "id": "7c6ad6e7-bc4d-4ad1-a173-4b2756f9b8b0",
   "metadata": {},
   "outputs": [],
   "source": [
    "df3 = pd.merge(df, df2, on='id')"
   ]
  },
  {
   "cell_type": "code",
   "execution_count": null,
   "id": "4a6e719e-58d0-4a78-9427-2fcdc8e025d3",
   "metadata": {},
   "outputs": [],
   "source": [
    "df3.to_csv(\"song_info_final.csv\", index=False)"
   ]
  },
  {
   "cell_type": "code",
   "execution_count": null,
   "id": "e31ffda0-617c-441d-bda4-a6cc4cd10ba5",
   "metadata": {},
   "outputs": [],
   "source": [
    "df4 = pd.read_csv(\"song_info_final.csv\")"
   ]
  },
  {
   "cell_type": "code",
   "execution_count": null,
   "id": "1bdef7d2-8866-4ea9-9849-035f6496db21",
   "metadata": {},
   "outputs": [
    {
     "data": {
      "text/plain": [
       "Index(['danceability', 'energy', 'key', 'loudness', 'mode', 'speechiness',\n",
       "       'acousticness', 'instrumentalness', 'liveness', 'valence', 'tempo',\n",
       "       'type', 'id', 'uri', 'track_href', 'analysis_url', 'duration_ms',\n",
       "       'time_signature', 'song_name', 'album_url', 'popularity', 'artist_name',\n",
       "       'artist_id'],\n",
       "      dtype='object')"
      ]
     },
     "execution_count": 6,
     "metadata": {},
     "output_type": "execute_result"
    }
   ],
   "source": [
    "df4.columns"
   ]
  }
 ],
 "metadata": {
  "kernelspec": {
   "display_name": "env",
   "language": "python",
   "name": "python3"
  },
  "language_info": {
   "codemirror_mode": {
    "name": "ipython",
    "version": 3
   },
   "file_extension": ".py",
   "mimetype": "text/x-python",
   "name": "python",
   "nbconvert_exporter": "python",
   "pygments_lexer": "ipython3",
   "version": "3.12.0"
  }
 },
 "nbformat": 4,
 "nbformat_minor": 5
}
