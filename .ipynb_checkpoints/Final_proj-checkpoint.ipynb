{
 "cells": [
  {
   "cell_type": "code",
   "execution_count": 2,
   "id": "c2be8988-7f13-4c6e-9536-1e3351dee89e",
   "metadata": {},
   "outputs": [
    {
     "ename": "ModuleNotFoundError",
     "evalue": "No module named 'plotly'",
     "output_type": "error",
     "traceback": [
      "\u001b[1;31m---------------------------------------------------------------------------\u001b[0m",
      "\u001b[1;31mModuleNotFoundError\u001b[0m                       Traceback (most recent call last)",
      "Cell \u001b[1;32mIn[2], line 5\u001b[0m\n\u001b[0;32m      3\u001b[0m \u001b[38;5;28;01mimport\u001b[39;00m \u001b[38;5;21;01mrandom\u001b[39;00m\n\u001b[0;32m      4\u001b[0m \u001b[38;5;28;01mimport\u001b[39;00m \u001b[38;5;21;01maltair\u001b[39;00m \u001b[38;5;28;01mas\u001b[39;00m \u001b[38;5;21;01malt\u001b[39;00m\n\u001b[1;32m----> 5\u001b[0m \u001b[38;5;28;01mimport\u001b[39;00m \u001b[38;5;21;01mplotly\u001b[39;00m\u001b[38;5;21;01m.\u001b[39;00m\u001b[38;5;21;01mgraph_objects\u001b[39;00m \u001b[38;5;28;01mas\u001b[39;00m \u001b[38;5;21;01mgo\u001b[39;00m\n\u001b[0;32m      6\u001b[0m \u001b[38;5;28;01mimport\u001b[39;00m \u001b[38;5;21;01mrequests\u001b[39;00m\n\u001b[0;32m      7\u001b[0m \u001b[38;5;28;01mimport\u001b[39;00m \u001b[38;5;21;01minspect\u001b[39;00m\n",
      "\u001b[1;31mModuleNotFoundError\u001b[0m: No module named 'plotly'"
     ]
    }
   ],
   "source": [
    "import pandas as pd\n",
    "import numpy as np\n",
    "import random\n",
    "import altair as alt\n",
    "import plotly.graph_objects as go\n",
    "import requests\n",
    "import inspect\n",
    "import spotipy\n",
    "from spotipy.oauth2 import SpotifyClientCredentials\n",
    "#import spotify_tools\n",
    "import networkx as nx\n",
    "import networkx.algorithms.community as nx_comm\n",
    "import matplotlib.cm as cm\n",
    "import matplotlib.pyplot as plt\n",
    "import plotly.express as px\n",
    "import pyvis\n",
    "from pyvis import network as net\n",
    "from itertools import combinations\n",
    "#from community import community_louvain\n",
    "from copy import deepcopy\n",
    "import time\n",
    "import csv"
   ]
  },
  {
   "cell_type": "code",
   "execution_count": 4,
   "id": "ec8ef250-7052-42f0-9e10-b648ba9b1822",
   "metadata": {},
   "outputs": [],
   "source": [
    "def get_SP(ID, Secret, Name):\n",
    "    CLIENT_ID = ID\n",
    "    CLIENT_SECRET = Secret\n",
    "    my_username = Name\n",
    "\n",
    "    # instantiating the client.  This 'sp' version of the client is used repeatedly below\n",
    "    # source: Max Hilsdorf (https://towardsdatascience.com/how-to-create-large-music-datasets-using-spotipy-40e7242cc6a6)\n",
    "    client_credentials_manager = SpotifyClientCredentials(client_id=CLIENT_ID, client_secret=CLIENT_SECRET)\n",
    "    sp = spotipy.Spotify(client_credentials_manager=client_credentials_manager, status_retries=3, backoff_factor=0.3)\n",
    "    \n",
    "    return sp"
   ]
  },
  {
   "cell_type": "code",
   "execution_count": 5,
   "id": "63e51945-f1bb-4944-a55b-3599d2a67491",
   "metadata": {},
   "outputs": [],
   "source": [
    "sp = get_SP(\"09f53c0a70fc4818ab7438fb2dff64dd\", \"fcfcaea7cc9a42f697da7ce6d4680d3d\", \"Fejiro Anigboro\")\n",
    "sp1 = get_SP(\"922db1c93c90406fb8608e2729577cf4\", \"8561aa0a985f470f91193d912a494287\", \"my_spotify_name\")\n",
    "sp2 = get_SP(\"79724bfb388b451e9d80af9972ed118f\", \"4c1784725f7a468aa97127ee54d63209\", \"rami\")\n",
    "sp3 = get_SP(\"d7e20fdf6b044b8c83c6ef74045bd89d\", \"bb863640b3844f3a84289182ce5a7c01\", \"Idan\")\n",
    "sp4 = get_SP(\"6ca97a1822a849458f3c105d5f83e3c2\", \"bb57f33f51da4321b14e0f5309abf7ca\", \"my_spotify_F2\")"
   ]
  },
  {
   "cell_type": "code",
   "execution_count": 6,
   "id": "574bd767-e8d7-45c8-86ae-0cb44694e85d",
   "metadata": {},
   "outputs": [],
   "source": [
    "def filter_info(playlist_id, username=\"Any user\"):\n",
    "    r = sp.user_playlist_tracks(username, playlist_id)\n",
    "    t = r['items']\n",
    "    \n",
    "\n",
    "    info_list = []\n",
    "    \n",
    "    \n",
    "    while r['next']:\n",
    "        r = sp.next(r)\n",
    "        t.extend(r['items'])\n",
    "    for s in t: \n",
    "        album_type = s['track']['album']['album_type'] \n",
    "        song_id = s[\"track\"][\"id\"]\n",
    "        song_name = s[\"track\"][\"name\"]\n",
    "        #print(song_name)\n",
    "        \n",
    "        artist_name = s[\"track\"][\"artists\"][0][\"name\"]\n",
    "        #print(artist_name)\n",
    "        \n",
    "        # this gives the id of an artist\n",
    "        artist_id = s[\"track\"][\"artists\"][0][\"id\"] # use href if I need to get the full api call for this -- split by \"/\" thne get [-1] element\n",
    "        #print(artist_id) \n",
    "        \n",
    "        popularity = s[\"track\"][\"popularity\"]\n",
    "        \n",
    "        #print(s)\n",
    "        \n",
    "        try:\n",
    "            # getting the url of the album\n",
    "            album_url = s[\"track\"][\"artists\"][0][\"external_urls\"][\"spotify\"]\n",
    "            #print(album_url) # split by same condiiton above\n",
    "        except:\n",
    "            album_url = None\n",
    "           \n",
    "        \n",
    "        info_list.append([song_name, song_id, artist_name, artist_id, album_type, album_url, popularity])\n",
    "        \n",
    "    \n",
    "    return info_list"
   ]
  },
  {
   "cell_type": "code",
   "execution_count": 7,
   "id": "2fea8732-0efc-43a3-84b6-c74555dd933f",
   "metadata": {},
   "outputs": [],
   "source": [
    "test_pl = filter_info(\"7mVCbkMcSXApmQ08F9uUi5\")"
   ]
  },
  {
   "cell_type": "code",
   "execution_count": 8,
   "id": "6d110b23-34b5-4cef-b6bd-972ab29dc548",
   "metadata": {},
   "outputs": [],
   "source": [
    "def get_artist_top_tracks(artist_id, sp):\n",
    "    top_hits = sp.artist_top_tracks(artist_id, country='US')\n",
    "    info_list = []\n",
    "    \n",
    "    for track in top_hits['tracks']:\n",
    "        song_id = track[\"id\"]\n",
    "        song_name = track[\"name\"]\n",
    "        artist_name = track[\"artists\"][0][\"name\"]\n",
    "        popularity = track[\"popularity\"]\n",
    "        \n",
    "        info_list.append([song_name, song_id, artist_name, popularity])\n",
    "    \n",
    "    return info_list"
   ]
  },
  {
   "cell_type": "code",
   "execution_count": 9,
   "id": "2cdb7407-cadd-44a8-aecc-db10d193beeb",
   "metadata": {},
   "outputs": [
    {
     "data": {
      "text/plain": [
       "[['Sunday Best', '1qYKWcEOrh2tM8PlgIm8K1', 'Surfaces', 75],\n",
       " ['Come With Me', '3curUGAfGYvGcBbE1k5Fyy', 'Surfaces', 67],\n",
       " ['Sheesh!', '77aXKTGNtAEmtDcPpqyXAG', 'Surfaces', 11],\n",
       " ['Wave of You', '0GYjlsMiLhspkDFB6y7HDU', 'Surfaces', 63],\n",
       " [\"I Can't Help But Feel\", '4zgGNKt9YQGUQHRu9FgZPM', 'Surfaces', 62],\n",
       " ['Baby Blue', '5ZDdx332AQj2n6TOW0LlZU', 'Surfaces', 62],\n",
       " ['Heaven Falls / Fall on Me', '7yHqOZfsXYlicyoMt62yC6', 'Surfaces', 62],\n",
       " ['Good Day', '3Sn36jbYTRuTSA3pHi4Ajz', 'Surfaces', 58],\n",
       " ['Live It Up (High Tide)', '1NQerA4L5VGpEtL9j7P7Xb', 'Surfaces', 59],\n",
       " ['24 / 7 / 365', '2GNxSn3YBrru8grMWsX9EX', 'Surfaces', 57]]"
      ]
     },
     "execution_count": 9,
     "metadata": {},
     "output_type": "execute_result"
    }
   ],
   "source": [
    "get_artist_top_tracks(\"4ETSs924pXMzjIeD6E9b4u\", sp1)"
   ]
  },
  {
   "cell_type": "code",
   "execution_count": 10,
   "id": "36048bd2-3b68-45fd-a9f5-dd1f13b6503a",
   "metadata": {},
   "outputs": [
    {
     "name": "stdout",
     "output_type": "stream",
     "text": [
      "[['seaside_demo', '1SgUjGzbmmMOsGFTVwQ59L', 'SEB', 69], ['loving u is harder', '3zyzC28g7uU4YfWN840ciZ', 'SEB', 64], ['god of the sunsets', '5gOyjqIifZ9NqVcaIIlqv7', 'SEB', 63], [\"f**k it, i'm the man\", '3Jq0vjC96tJlUVAdKfMajk', 'SEB', 59], ['killer lover boy', '4VWahNC3hzIZpJsb1aNBB8', 'SEB', 53], ['Coney Island', '4NBYId6eoacEMJDkhfTPG7', 'SEB', 51], ['moving on (feat. Khary)', '3YNUrsQihHuKSE1xQs6MdG', 'SEB', 47], ['home2u', '6QNnOrCZ0HWmn2pefRxtG9', 'SEB', 47], ['sugarhoneyiceicetea', '57kEzYWpcGuIa41hubnS3A', 'SEB', 44], ['3am in nyc', '1qk8eEUJaGK2xWHhq8QZD5', 'SEB', 44]]\n",
      "[['Mistletoe', '7xapw9Oy21WpfEcib2ErSA', 'Justin Bieber', 90], ['STAY (with Justin Bieber)', '567e29TDzLwZwfDuEpGTwo', 'The Kid LAROI', 85], ['Ghost', '6I3mqTwhRpn34SLVafSH7G', 'Justin Bieber', 89], ['Love Yourself', '50kpGaPAhYJ3sGmk6vplg0', 'Justin Bieber', 86], ['Beauty And A Beat', '6QFCMUUq1T2Vf5sFUXcuQ7', 'Justin Bieber', 82], ['Sorry', '09CtPGIpYB4BrO8qb1RGsF', 'Justin Bieber', 85], ['Baby', '6epn3r7S14KUqlReYr77hA', 'Justin Bieber', 84], ['bad guy', '69u7FJV6RIbQS3VuqLPSwl', 'Billie Eilish', 61], ['Peaches (feat. Daniel Caesar & Giveon)', '4iJyoBOLtHqaGxP12qzhQI', 'Justin Bieber', 83], ['What Do You Mean?', '4B0JvthVoAAuygILe3n4Bs', 'Justin Bieber', 82]]\n",
      "[['Yellow', '3AJwUDP919kvQ9QcozQPxg', 'Coldplay', 92], ['Viva La Vida', '1mea3bSkSGXuIRvnydlB5b', 'Coldplay', 89], ['Something Just Like This', '6RUKPb4LETWmmr3iAEQktW', 'The Chainsmokers', 88], ['Sparks', '7D0RhFcb3CrfPuTJ0obrod', 'Coldplay', 89], ['A Sky Full of Stars', '0FDzzruyVECATHXKHFs9eJ', 'Coldplay', 88], ['The Scientist', '75JFxkI2RXiU7L9VXzMkle', 'Coldplay', 87], ['Fix You', '7LVHVU3tWfcxj5aiPFEW4Q', 'Coldplay', 86], ['Paradise', '6nek1Nin9q48AVZcWs9e9D', 'Coldplay', 86], ['My Universe', '46HNZY1i7O6jwTA7Slo2PI', 'Coldplay', 80], ['Hymn for the Weekend', '3RiPr603aXAoi4GHyXx0uy', 'Coldplay', 85]]\n",
      "[['AOK', '1sx0XsWUusUoPstbvokZjP', 'Tai Verdes', 75], ['how deep?', '1nTzXNZCnZ0T7S8BqkL98r', 'Tai Verdes', 63], ['last day on earth', '2sS1DcNGSsG34Ccua98Q4t', 'Tai Verdes', 58], ['DRUGS', '4tVASOccgcigdCfwUamZCh', 'Tai Verdes', 64], ['Stuck In The Middle', '44TzvSZLIkM7Y7MEnrvkIl', 'Tai Verdes', 63], ['Sheesh!', '77aXKTGNtAEmtDcPpqyXAG', 'Surfaces', 11], ['sheluvme', '6QPsWusy5itp7ip1hW7QNa', 'Tai Verdes', 60], [\"Let's go to Hell\", '45JNYckUs23slxKt36DJzr', 'Tai Verdes', 56], ['Sunset', '5hFVuHDVUqR9FvVnHFoLLo', 'Tai Verdes', 60], ['Sandman', '3iXH8nRdc945PO0GlbOroA', 'Tai Verdes', 58]]\n",
      "[['Be Alright', '5qrSlOut2rNAWv3ubArkNy', 'Dean Lewis', 81], ['How Do I Say Goodbye', '1aOl53hkZGHkl2Snhr7opL', 'Dean Lewis', 79], ['Half A Man', '1ugQtcwmKOXvKAYzhjncmv', 'Dean Lewis', 78], ['Waves', '6w8pFOKn42O418qwcQElZ3', 'Dean Lewis', 77], ['Trust Me Mate', '2wWX4sZGZNc7lA594ZOhP7', 'Dean Lewis', 73], ['Hurtless', '7gcKyKP2O2RO9YwtPDgDSP', 'Dean Lewis', 70], ['28 - with Dean Lewis', '3fajzhEHSdlSmY31dORz9M', 'Ruth B.', 72], ['In A Perfect World (with Julia Michaels)', '2ibGdhv3nTO89VN9KR7N2H', 'Dean Lewis', 70], ['Looks Like Me', '1CcCntDuVJpjqkJhYGhuMw', 'Dean Lewis', 66], ['7 Minutes', '6FYbr9QzRoZPh0Re8lDO9z', 'Dean Lewis', 64]]\n",
      "[['Someone You Loved', '7qEHsqek33rTcFNT9PFqLf', 'Lewis Capaldi', 90], ['Before You Go', '2gMXnyrvIjhVBUZwvLZDMP', 'Lewis Capaldi', 86], ['Bruises', '4Of7rzpRpV1mWRbhp5rAqG', 'Lewis Capaldi', 83], ['Wish You The Best', '3gdPwk2wyOXNRnTA1KXnEr', 'Lewis Capaldi', 83], ['Hold Me While You Wait', '60iSKGrGazRzICtMjADNSM', 'Lewis Capaldi', 80], ['Forget Me', '3iHzKA9HlXf5wsGdsrsnSA', 'Lewis Capaldi', 80], ['Forever', '12OLyHDxt6dqlAybSPFBK3', 'Lewis Capaldi', 76], ['Pointless', '44G9fSM6qI8zRoG6Qwn3eq', 'Lewis Capaldi', 75], ['Grace', '0pEkK8MqbmGSX7fT8WLMbR', 'Lewis Capaldi', 74], ['Leaving My Love Behind', '1NxHgM5nOnmqi3KUVLbaIw', 'Lewis Capaldi', 70]]\n",
      "[['Never Too Much', '3nFJbZCHP4d9vduKjJLdBL', 'Luther Vandross', 74], ['Endless Love (with Mariah Carey)', '7IljDTNkQEyy77CcaRbiAj', 'Luther Vandross', 66], ['Dance With My Father', '7snmvZMLdGGk3l9PcvoYSM', 'Luther Vandross', 62], [\"I'd Rather\", '5oDM9YSQIlhuWa0awHF4Z2', 'Luther Vandross', 61], ['Every Year, Every Christmas', '5lPlakX2SJa6dOaMY8LiDj', 'Luther Vandross', 55], ['Have Yourself a Merry Little Christmas', '4UhitiM5qTYK5m7zqcFQrb', 'Luther Vandross', 54], ['Here and Now', '042pmCix7CPth3l3X28jl1', 'Luther Vandross', 57], ['So Amazing', '2BABTeUx608FA8b47bDuLK', 'Luther Vandross', 55], ['Please Come Home for Christmas', '2mOtx6P21hecOcPoVuZbzF', 'Luther Vandross', 49], ['A House Is Not a Home', '4gFVTfg1EFuuXJguJe1Z7W', 'Luther Vandross', 56]]\n",
      "[['My Love', '5p0ietGkLNEqx1Z7ijkw5g', 'Westlife', 73], ['If I Let You Go - Radio Edit', '3St0RlsL0Z0klK1mqWakQm', 'Westlife', 70], ['Uptown Girl - Radio Edit', '2sFp6E7lNBbblJGmUtCfFH', 'Westlife', 69], ['Swear It Again - Radio Edit', '4ekWUsmWMaT5EI3VL0epBk', 'Westlife', 67], ['Fool Again', '5Aa33rAPkp7f7l1aVqsHO8', 'Westlife', 67], ['I Lay My Love on You - Remix', '0V82wcNlunw76nvvmPL9tk', 'Westlife', 66], [\"Nothing's Going to Change My Love For You\", '0OYusiiiDYU33GJYsMzUc0', 'Westlife', 65], ['Flying Without Wings', '1pDylAt4nUPy2r72KRQDYX', 'Westlife', 65], ['You Raise Me Up', '5XQavlXrNHBBvlN4IJqhqW', 'Westlife', 64], ['World of Our Own', '4SAHTVRe6EBhgAOWl49yPf', 'Westlife', 63]]\n",
      "[['As It Was', '4Dvkj6JhhA12EX05fT7y2e', 'Harry Styles', 94], ['Watermelon Sugar', '6UelLqGlWMcVH1E5c4H7lY', 'Harry Styles', 88], ['Late Night Talking', '1qEmFfgcLObUfQm0j1W2CK', 'Harry Styles', 85], ['Adore You', '3jjujdWJ72nww5eGnfs2E7', 'Harry Styles', 85], ['Sign of the Times', '5Ohxk2dO5COHF1krpoPigN', 'Harry Styles', 85], ['Falling', '1ZMiCix7XSAbfAJlEZWMCp', 'Harry Styles', 85], ['Satellite', '0rzaRSujxA0bKyjJl6vHYq', 'Harry Styles', 83], ['Matilda', '6uvh0In7u1Xn4HgxOfAn8O', 'Harry Styles', 82], ['Fine Line', '6VzcQuzTNTMFnJ6rBSaLH9', 'Harry Styles', 82], ['Golden', '45S5WTQEGOB1VHr1Q4FuPl', 'Harry Styles', 80]]\n",
      "[['Heat Waves', '3USxtqRwSYz57Ewm6wWRMp', 'Glass Animals', 90], ['Gooey', '1gk3FhAV07q9Jg77UxnVjX', 'Glass Animals', 72], ['Youth', '1LPGwuFgIzbJoShfDdw7MY', 'Glass Animals', 71], ['The Other Side Of Paradise', '0rRjGruFonCGOt0S5zAJNQ', 'Glass Animals', 71], ['Heat Waves - Slowed', '1K2RnVhm3eauKnA8PAcPu1', 'Glass Animals', 71], ['Take A Slice', '37adYGaYaAWTGhBaOzX4Fh', 'Glass Animals', 68], [\"I Don't Wanna Talk (I Just Wanna Dance)\", '6IbCvfmmICEEAyDwQ9zcbt', 'Glass Animals', 64], ['Tangerine', '40rOlDoGejXXF4B0BYsjx8', 'Glass Animals', 66], ['Heat Waves', '3Che0Dm9dlytqujcprVAwE', 'Glass Animals', 66], ['Tokyo Drifting', '2MA6YoaFF7fnWqkuOAWjUg', 'Glass Animals', 64]]\n",
      "[['Sunday Best', '1qYKWcEOrh2tM8PlgIm8K1', 'Surfaces', 75], ['Come With Me', '3curUGAfGYvGcBbE1k5Fyy', 'Surfaces', 67], ['Sheesh!', '77aXKTGNtAEmtDcPpqyXAG', 'Surfaces', 11], ['Wave of You', '0GYjlsMiLhspkDFB6y7HDU', 'Surfaces', 63], [\"I Can't Help But Feel\", '4zgGNKt9YQGUQHRu9FgZPM', 'Surfaces', 62], ['Baby Blue', '5ZDdx332AQj2n6TOW0LlZU', 'Surfaces', 62], ['Heaven Falls / Fall on Me', '7yHqOZfsXYlicyoMt62yC6', 'Surfaces', 62], ['Good Day', '3Sn36jbYTRuTSA3pHi4Ajz', 'Surfaces', 58], ['Live It Up (High Tide)', '1NQerA4L5VGpEtL9j7P7Xb', 'Surfaces', 59], ['24 / 7 / 365', '2GNxSn3YBrru8grMWsX9EX', 'Surfaces', 57]]\n"
     ]
    }
   ],
   "source": [
    "tp_tracks = []\n",
    "for track in test_pl:\n",
    "    print(get_artist_top_tracks(track[3], sp))"
   ]
  },
  {
   "cell_type": "code",
   "execution_count": 11,
   "id": "bd06ca28-d571-4f22-9eb3-9a2b1aa1900b",
   "metadata": {},
   "outputs": [],
   "source": [
    "def csv_writer(info):\n",
    "    with open('Song_data.csv', 'a', newline='') as file:\n",
    "        # Step 4: Using csv.writer to write the list to the CSV file\n",
    "        writer = csv.writer(file)\n",
    "        writer.writerow(info) # Use writerow for single list"
   ]
  },
  {
   "cell_type": "code",
   "execution_count": null,
   "id": "983da695-5382-4915-a6ce-cf4c4a94c790",
   "metadata": {},
   "outputs": [],
   "source": [
    "# for a in c: \n",
    "#     try:\n",
    "#         csv_writer(list(a[0].values()))\n",
    "#     except AttributeError:\n",
    "#         pass"
   ]
  },
  {
   "cell_type": "code",
   "execution_count": 12,
   "id": "f05ee96a-75b4-4d7a-b8c0-50d519b23333",
   "metadata": {},
   "outputs": [],
   "source": [
    "df = pd.read_csv(\"data/song_info_final.csv\")"
   ]
  },
  {
   "cell_type": "code",
   "execution_count": 13,
   "id": "f0ea00d7-84e9-454a-9c0e-9c769ad8f888",
   "metadata": {},
   "outputs": [],
   "source": [
    "artist_ids = df['artist_id']"
   ]
  },
  {
   "cell_type": "code",
   "execution_count": 15,
   "id": "fe2a62e8-4018-4beb-b7f0-820670757f03",
   "metadata": {},
   "outputs": [],
   "source": [
    "for id_ in artist_ids:\n",
    "    pass\n",
    "    #print(id_)\n",
    "    #print(get_artist_top_tracks((id_[1::]), sp))"
   ]
  },
  {
   "cell_type": "code",
   "execution_count": 22,
   "id": "06a5ddc5-8d6b-45fa-a8d7-393f611631e5",
   "metadata": {},
   "outputs": [
    {
     "name": "stdout",
     "output_type": "stream",
     "text": [
      "<class 'dict'>\n",
      "track    : Sunday Best\n",
      "audio    : https://p.scdn.co/mp3-preview/0062178836f645d0c1ab0a84447cddd1022aec15?cid=09f53c0a70fc4818ab7438fb2dff64dd\n",
      "cover art: https://i.scdn.co/image/ab67616d0000b2731a0affe36002256fac950cdb\n",
      "\n",
      "track    : Come With Me\n",
      "audio    : https://p.scdn.co/mp3-preview/c4c5f2f8d82649390f4c4fe7686b70d147f3a07c?cid=09f53c0a70fc4818ab7438fb2dff64dd\n",
      "cover art: https://i.scdn.co/image/ab67616d0000b273b996bbd7662c1b8bd012fe52\n",
      "\n",
      "track    : Sheesh!\n",
      "audio    : https://p.scdn.co/mp3-preview/19f3e370435ab27ca2e5ebd22d0ecf228209fd73?cid=09f53c0a70fc4818ab7438fb2dff64dd\n",
      "cover art: https://i.scdn.co/image/ab67616d0000b273f51d828258bb2e6216348b16\n",
      "\n",
      "track    : Wave of You\n",
      "audio    : https://p.scdn.co/mp3-preview/a6ce5a759b620d614cbe20fac109c7ab22c196ad?cid=09f53c0a70fc4818ab7438fb2dff64dd\n",
      "cover art: https://i.scdn.co/image/ab67616d0000b273b996bbd7662c1b8bd012fe52\n",
      "\n",
      "track    : I Can't Help But Feel\n",
      "audio    : https://p.scdn.co/mp3-preview/b0508c311cc8a6c72cecd598070ce5509464e669?cid=09f53c0a70fc4818ab7438fb2dff64dd\n",
      "cover art: https://i.scdn.co/image/ab67616d0000b273afbb08ec54355ca735fc644d\n",
      "\n",
      "track    : Baby Blue\n",
      "audio    : https://p.scdn.co/mp3-preview/2c1a4ccd12b40315d5a01203d6dd44e43e7a0880?cid=09f53c0a70fc4818ab7438fb2dff64dd\n",
      "cover art: https://i.scdn.co/image/ab67616d0000b273b894ad3f43f4fef7fd3a6641\n",
      "\n",
      "track    : Heaven Falls / Fall on Me\n",
      "audio    : https://p.scdn.co/mp3-preview/3784280e021382c9e4fe2d6f33ce5aab732831b6?cid=09f53c0a70fc4818ab7438fb2dff64dd\n",
      "cover art: https://i.scdn.co/image/ab67616d0000b273d31c5ca0ba296c446a3fe725\n",
      "\n",
      "track    : Good Day\n",
      "audio    : https://p.scdn.co/mp3-preview/efae0e9242419b387f08007cd2df988ede2ff4e7?cid=09f53c0a70fc4818ab7438fb2dff64dd\n",
      "cover art: https://i.scdn.co/image/ab67616d0000b27398b3e7c09449393c8b017343\n",
      "\n",
      "track    : Live It Up (High Tide)\n",
      "audio    : https://p.scdn.co/mp3-preview/f5f41f729292b9368b6abd96ac1d74005152243e?cid=09f53c0a70fc4818ab7438fb2dff64dd\n",
      "cover art: https://i.scdn.co/image/ab67616d0000b273402a7623203a39cd32eb23e0\n",
      "\n",
      "track    : 24 / 7 / 365\n",
      "audio    : https://p.scdn.co/mp3-preview/81653e1ae122ec2cbe40f17236cdbd07c52491fc?cid=09f53c0a70fc4818ab7438fb2dff64dd\n",
      "cover art: https://i.scdn.co/image/ab67616d0000b273fb742dfca1e97284a19730a2\n",
      "\n"
     ]
    }
   ],
   "source": [
    "results = sp.artist_top_tracks(\"4ETSs924pXMzjIeD6E9b4u\", country='US')\n",
    "print(type(results))\n",
    "\n",
    "for track in results['tracks'][:10]:\n",
    "    print('track    : ' + track['name'])\n",
    "    print('audio    : ' + track['preview_url'])\n",
    "    print('cover art: ' + track['album']['images'][0]['url'])\n",
    "    print()"
   ]
  },
  {
   "cell_type": "code",
   "execution_count": 24,
   "metadata": {},
   "outputs": [
    {
     "name": "stdout",
     "output_type": "stream",
     "text": [
      "{'album': {'album_type': 'album', 'artists': [{'external_urls': {'spotify': 'https://open.spotify.com/artist/4ETSs924pXMzjIeD6E9b4u'}, 'href': 'https://api.spotify.com/v1/artists/4ETSs924pXMzjIeD6E9b4u', 'id': '4ETSs924pXMzjIeD6E9b4u', 'name': 'Surfaces', 'type': 'artist', 'uri': 'spotify:artist:4ETSs924pXMzjIeD6E9b4u'}], 'external_urls': {'spotify': 'https://open.spotify.com/album/5nX3zwIAgHttSudEHLTsAW'}, 'href': 'https://api.spotify.com/v1/albums/5nX3zwIAgHttSudEHLTsAW', 'id': '5nX3zwIAgHttSudEHLTsAW', 'images': [{'height': 640, 'url': 'https://i.scdn.co/image/ab67616d0000b2731a0affe36002256fac950cdb', 'width': 640}, {'height': 300, 'url': 'https://i.scdn.co/image/ab67616d00001e021a0affe36002256fac950cdb', 'width': 300}, {'height': 64, 'url': 'https://i.scdn.co/image/ab67616d000048511a0affe36002256fac950cdb', 'width': 64}], 'is_playable': True, 'name': 'Where the Light Is', 'release_date': '2019-01-06', 'release_date_precision': 'day', 'total_tracks': 10, 'type': 'album', 'uri': 'spotify:album:5nX3zwIAgHttSudEHLTsAW'}, 'artists': [{'external_urls': {'spotify': 'https://open.spotify.com/artist/4ETSs924pXMzjIeD6E9b4u'}, 'href': 'https://api.spotify.com/v1/artists/4ETSs924pXMzjIeD6E9b4u', 'id': '4ETSs924pXMzjIeD6E9b4u', 'name': 'Surfaces', 'type': 'artist', 'uri': 'spotify:artist:4ETSs924pXMzjIeD6E9b4u'}], 'disc_number': 1, 'duration_ms': 158947, 'explicit': False, 'external_ids': {'isrc': 'TCAEA1802695'}, 'external_urls': {'spotify': 'https://open.spotify.com/track/1qYKWcEOrh2tM8PlgIm8K1'}, 'href': 'https://api.spotify.com/v1/tracks/1qYKWcEOrh2tM8PlgIm8K1', 'id': '1qYKWcEOrh2tM8PlgIm8K1', 'is_local': False, 'is_playable': True, 'name': 'Sunday Best', 'popularity': 75, 'preview_url': 'https://p.scdn.co/mp3-preview/0062178836f645d0c1ab0a84447cddd1022aec15?cid=09f53c0a70fc4818ab7438fb2dff64dd', 'track_number': 7, 'type': 'track', 'uri': 'spotify:track:1qYKWcEOrh2tM8PlgIm8K1'}\n"
     ]
    }
   ],
   "source": [
    "print(results['tracks'][0])"
   ]
  },
  {
   "cell_type": "code",
   "execution_count": null,
   "id": "017fe18a",
   "metadata": {},
   "outputs": [],
   "source": []
  }
 ],
 "metadata": {
  "kernelspec": {
   "display_name": "env",
   "language": "python",
   "name": "python3"
  },
  "language_info": {
   "codemirror_mode": {
    "name": "ipython",
    "version": 3
   },
   "file_extension": ".py",
   "mimetype": "text/x-python",
   "name": "python",
   "nbconvert_exporter": "python",
   "pygments_lexer": "ipython3",
   "version": "3.9.13"
  }
 },
 "nbformat": 4,
 "nbformat_minor": 5
}
